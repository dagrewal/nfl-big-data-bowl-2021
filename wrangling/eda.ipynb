{
 "metadata": {
  "language_info": {
   "codemirror_mode": {
    "name": "ipython",
    "version": 3
   },
   "file_extension": ".py",
   "mimetype": "text/x-python",
   "name": "python",
   "nbconvert_exporter": "python",
   "pygments_lexer": "ipython3",
   "version": "3.8.5-final"
  },
  "orig_nbformat": 2,
  "kernelspec": {
   "name": "Python 3.8.5 64-bit ('kaggle': conda)",
   "display_name": "Python 3.8.5 64-bit ('kaggle': conda)",
   "metadata": {
    "interpreter": {
     "hash": "23fae0e23860060a7169d7ff1dc7386924c400b991899b6f2188ca77b05bfee1"
    }
   }
  }
 },
 "nbformat": 4,
 "nbformat_minor": 2,
 "cells": [
  {
   "cell_type": "code",
   "execution_count": 53,
   "metadata": {},
   "outputs": [
    {
     "output_type": "display_data",
     "data": {
      "text/plain": "<IPython.core.display.HTML object>",
      "text/html": "\n\n<style type=\"text/css\">\n<link href=\"https://fonts.googleapis.com/css2?family=Poppins&display=swap\" rel=\"stylesheet\">\n\n* {\n    font-family: 'Poppins', sans-serif;\n}\ndiv.summary {\n    background-color: darkorange; \n    color: white; \n    padding: 8px; \n    padding-right: 300px; \n    font-size: 24px; \n    max-width: 1500px; \n    margin-top: 50px;\n    margin-bottom:4px;\n    border-radius: 5px;\n }\n\n div.chapter { \n    color: darkorange; \n    padding: 8px; \n    padding-right: 300px; \n    font-size: 24px; \n    max-width: 1500px; \n    margin-top: 50px;\n    margin-bottom:4px;\n }\n\n  div.sub-chapter { \n    color: darkorange; \n    padding: 8px; \n    padding-right: 300px; \n    font-size: 20px; \n    max-width: 1500px; \n    margin-top: 30px;\n    margin-bottom:4px;\n }\n"
     },
     "metadata": {}
    }
   ],
   "source": [
    "%%HTML\n",
    "\n",
    "\n",
    "<style type=\"text/css\">\n",
    "<link href=\"https://fonts.googleapis.com/css2?family=Poppins&display=swap\" rel=\"stylesheet\">\n",
    "\n",
    "* {\n",
    "    font-family: 'Poppins', sans-serif;\n",
    "}\n",
    "div.summary {\n",
    "    background-color: darkorange; \n",
    "    color: white; \n",
    "    padding: 8px; \n",
    "    padding-right: 300px; \n",
    "    font-size: 24px; \n",
    "    max-width: 1500px; \n",
    "    margin-top: 50px;\n",
    "    margin-bottom:4px;\n",
    "    border-radius: 5px;\n",
    " }\n",
    "\n",
    " div.chapter { \n",
    "    color: darkorange; \n",
    "    padding: 8px; \n",
    "    padding-right: 300px; \n",
    "    font-size: 24px; \n",
    "    max-width: 1500px; \n",
    "    margin-top: 50px;\n",
    "    margin-bottom:4px;\n",
    " }\n",
    "\n",
    "  div.sub-chapter { \n",
    "    color: darkorange; \n",
    "    padding: 8px; \n",
    "    padding-right: 300px; \n",
    "    font-size: 20px; \n",
    "    max-width: 1500px; \n",
    "    margin-top: 30px;\n",
    "    margin-bottom:4px;\n",
    " }"
   ]
  },
  {
   "cell_type": "code",
   "execution_count": 1,
   "metadata": {},
   "outputs": [],
   "source": [
    "import pandas as pd\n",
    "from pyspark.sql import SparkSession\n",
    "from pyspark.context import SparkContext\n",
    "from pyspark.sql.functions import *\n",
    "from pyspark.sql.types import *\n",
    "import numpy as np\n",
    "import matplotlib.pyplot as plt\n",
    "import seaborn as sns\n",
    "import altair as alt\n",
    "from IPython.core.display import HTML\n",
    "\n",
    "%matplotlib inline"
   ]
  },
  {
   "cell_type": "code",
   "execution_count": 47,
   "metadata": {},
   "outputs": [],
   "source": [
    "def get_distinct_vals(df):\n",
    "    return df.agg(*(countDistinct(col(c)).alias(c) for c in df.columns)).toPandas().T.reset_index().rename(columns={'index':'column', 0:'n_distinct'})"
   ]
  },
  {
   "cell_type": "code",
   "execution_count": 50,
   "metadata": {},
   "outputs": [],
   "source": [
    "def get_missing_vals_cnt(df):\n",
    "    return df.select([count(when(isnan(c) | col(c).isNull(), c)).alias(c) for c in df.columns]).toPandas().T.reset_index().rename(columns={'index':'column', 0:'n_missing'})"
   ]
  },
  {
   "cell_type": "code",
   "execution_count": 61,
   "metadata": {},
   "outputs": [],
   "source": [
    "def get_duplicate_rows(df):\n",
    "    return df.groupBy(df.columns).count().filter(col(\"count\") > 1).collect()"
   ]
  },
  {
   "source": [
    "# <center>An Exploratory Analysis of The NFL Big Data Bowl</center>\n",
    "## <center>Using Python & Pyspark</center></div>"
   ],
   "cell_type": "markdown",
   "metadata": {}
  },
  {
   "source": [
    "%%HTML\n",
    "<center><img src='../static/nfl-data-bowl.png', align='center'></center>"
   ],
   "cell_type": "code",
   "metadata": {},
   "execution_count": 4,
   "outputs": [
    {
     "output_type": "display_data",
     "data": {
      "text/plain": "<IPython.core.display.HTML object>",
      "text/html": "<center><img src='../static/nfl-data-bowl.png', align='center'></center>\n"
     },
     "metadata": {}
    }
   ]
  },
  {
   "source": [
    "<div class=summary>1. Summary</div>\n",
    "\n",
    "* Is there any way to use player tracking data to predict whether or not certain penalties – for example, defensive pass interference – will be called?"
   ],
   "cell_type": "markdown",
   "metadata": {}
  },
  {
   "source": [],
   "cell_type": "markdown",
   "metadata": {}
  },
  {
   "cell_type": "code",
   "execution_count": 6,
   "metadata": {},
   "outputs": [],
   "source": [
    "# initialise spark session\n",
    "sc = SparkSession.builder.appName('nfl-eda')\\\n",
    "    .master(\"local[15]\").getOrCreate()"
   ]
  },
  {
   "source": [
    "<div class=chapter>2. Exploratory Analysis</div>\n",
    "<p>The raw data consisted of multiple different datasets. The descriptions (as listed on Kaggle) of these datasets can be found below:</p>\n",
    "<ul>\n",
    "    <li>Game data: The games.csv contains the teams playing in each game. The key variable is gameId.</li>\n",
    "    <li>Player data: The players.csv file contains player-level information from players that participated in any of the tracking data files. The key variable is nflId.</li>\n",
    "    <li>Play data: The plays.csv file contains play-level information from each game. The key variables are gameId and playId.</li>\n",
    "    <li>Tracking data: Files week[week].csv contain player tracking data from all games in week [week]. The key variables are gameId, playId, and nflId. There are 17 weeks to a typical NFL Regular Season, and thus 17 data frames with player tracking data are provided.</li>\n",
    "</ul>\n",
    "<p>The following sub-sections describes the exploratory analysis that was applied to these datasets.</p>\n",
    "<div class=sub-chapter>2.1 Game Data</div>"
   ],
   "cell_type": "markdown",
   "metadata": {}
  },
  {
   "cell_type": "code",
   "execution_count": 55,
   "metadata": {},
   "outputs": [
    {
     "output_type": "stream",
     "name": "stdout",
     "text": [
      "root\n |-- gameId: integer (nullable = true)\n |-- gameDate: string (nullable = true)\n |-- gameTimeEastern: string (nullable = true)\n |-- homeTeamAbbr: string (nullable = true)\n |-- visitorTeamAbbr: string (nullable = true)\n |-- week: integer (nullable = true)\n\n"
     ]
    }
   ],
   "source": [
    "# read in games\n",
    "games_df = sc.read.csv(\"../data/games.csv\", header=True, inferSchema=True)\n",
    "games_df.printSchema()"
   ]
  },
  {
   "cell_type": "code",
   "execution_count": 58,
   "metadata": {},
   "outputs": [
    {
     "output_type": "execute_result",
     "data": {
      "text/plain": [
       "            column  n_missing  n_distinct\n",
       "0           gameId          0         253\n",
       "1         gameDate          0          50\n",
       "2  gameTimeEastern          0          10\n",
       "3     homeTeamAbbr          0          32\n",
       "4  visitorTeamAbbr          0          32\n",
       "5             week          0          17"
      ],
      "text/html": "<div>\n<style scoped>\n    .dataframe tbody tr th:only-of-type {\n        vertical-align: middle;\n    }\n\n    .dataframe tbody tr th {\n        vertical-align: top;\n    }\n\n    .dataframe thead th {\n        text-align: right;\n    }\n</style>\n<table border=\"1\" class=\"dataframe\">\n  <thead>\n    <tr style=\"text-align: right;\">\n      <th></th>\n      <th>column</th>\n      <th>n_missing</th>\n      <th>n_distinct</th>\n    </tr>\n  </thead>\n  <tbody>\n    <tr>\n      <th>0</th>\n      <td>gameId</td>\n      <td>0</td>\n      <td>253</td>\n    </tr>\n    <tr>\n      <th>1</th>\n      <td>gameDate</td>\n      <td>0</td>\n      <td>50</td>\n    </tr>\n    <tr>\n      <th>2</th>\n      <td>gameTimeEastern</td>\n      <td>0</td>\n      <td>10</td>\n    </tr>\n    <tr>\n      <th>3</th>\n      <td>homeTeamAbbr</td>\n      <td>0</td>\n      <td>32</td>\n    </tr>\n    <tr>\n      <th>4</th>\n      <td>visitorTeamAbbr</td>\n      <td>0</td>\n      <td>32</td>\n    </tr>\n    <tr>\n      <th>5</th>\n      <td>week</td>\n      <td>0</td>\n      <td>17</td>\n    </tr>\n  </tbody>\n</table>\n</div>"
     },
     "metadata": {},
     "execution_count": 58
    }
   ],
   "source": [
    "missing_vals = get_missing_vals_cnt(games_df)\n",
    "distinct_vals = get_distinct_vals(games_df)\n",
    "missing_vals.merge(distinct_vals, on=\"column\", how=\"inner\")"
   ]
  },
  {
   "cell_type": "code",
   "execution_count": 69,
   "metadata": {},
   "outputs": [
    {
     "output_type": "execute_result",
     "data": {
      "text/plain": [
       "  summary                gameId    gameDate gameTimeEastern homeTeamAbbr  \\\n",
       "0   count                   253         253             253          253   \n",
       "1    mean  2.0181078111027668E9        None            None         None   \n",
       "2  stddev    11449.014221731875        None            None         None   \n",
       "3     min            2018090600  09/06/2018        09:30:00          ARI   \n",
       "4     25%            2018100702        None            None         None   \n",
       "5     50%            2018110407        None            None         None   \n",
       "6     75%            2018120600        None            None         None   \n",
       "7     max            2018123015  12/30/2018        22:20:00          WAS   \n",
       "\n",
       "  visitorTeamAbbr               week  \n",
       "0             253                253  \n",
       "1            None  9.122529644268775  \n",
       "2            None  4.979801097667659  \n",
       "3             ARI                  1  \n",
       "4            None                  5  \n",
       "5            None                  9  \n",
       "6            None                 14  \n",
       "7             WAS                 17  "
      ],
      "text/html": "<div>\n<style scoped>\n    .dataframe tbody tr th:only-of-type {\n        vertical-align: middle;\n    }\n\n    .dataframe tbody tr th {\n        vertical-align: top;\n    }\n\n    .dataframe thead th {\n        text-align: right;\n    }\n</style>\n<table border=\"1\" class=\"dataframe\">\n  <thead>\n    <tr style=\"text-align: right;\">\n      <th></th>\n      <th>summary</th>\n      <th>gameId</th>\n      <th>gameDate</th>\n      <th>gameTimeEastern</th>\n      <th>homeTeamAbbr</th>\n      <th>visitorTeamAbbr</th>\n      <th>week</th>\n    </tr>\n  </thead>\n  <tbody>\n    <tr>\n      <th>0</th>\n      <td>count</td>\n      <td>253</td>\n      <td>253</td>\n      <td>253</td>\n      <td>253</td>\n      <td>253</td>\n      <td>253</td>\n    </tr>\n    <tr>\n      <th>1</th>\n      <td>mean</td>\n      <td>2.0181078111027668E9</td>\n      <td>None</td>\n      <td>None</td>\n      <td>None</td>\n      <td>None</td>\n      <td>9.122529644268775</td>\n    </tr>\n    <tr>\n      <th>2</th>\n      <td>stddev</td>\n      <td>11449.014221731875</td>\n      <td>None</td>\n      <td>None</td>\n      <td>None</td>\n      <td>None</td>\n      <td>4.979801097667659</td>\n    </tr>\n    <tr>\n      <th>3</th>\n      <td>min</td>\n      <td>2018090600</td>\n      <td>09/06/2018</td>\n      <td>09:30:00</td>\n      <td>ARI</td>\n      <td>ARI</td>\n      <td>1</td>\n    </tr>\n    <tr>\n      <th>4</th>\n      <td>25%</td>\n      <td>2018100702</td>\n      <td>None</td>\n      <td>None</td>\n      <td>None</td>\n      <td>None</td>\n      <td>5</td>\n    </tr>\n    <tr>\n      <th>5</th>\n      <td>50%</td>\n      <td>2018110407</td>\n      <td>None</td>\n      <td>None</td>\n      <td>None</td>\n      <td>None</td>\n      <td>9</td>\n    </tr>\n    <tr>\n      <th>6</th>\n      <td>75%</td>\n      <td>2018120600</td>\n      <td>None</td>\n      <td>None</td>\n      <td>None</td>\n      <td>None</td>\n      <td>14</td>\n    </tr>\n    <tr>\n      <th>7</th>\n      <td>max</td>\n      <td>2018123015</td>\n      <td>12/30/2018</td>\n      <td>22:20:00</td>\n      <td>WAS</td>\n      <td>WAS</td>\n      <td>17</td>\n    </tr>\n  </tbody>\n</table>\n</div>"
     },
     "metadata": {},
     "execution_count": 69
    }
   ],
   "source": [
    "games_df.summary().toPandas()"
   ]
  },
  {
   "cell_type": "code",
   "execution_count": 68,
   "metadata": {},
   "outputs": [
    {
     "output_type": "execute_result",
     "data": {
      "text/plain": [
       "       gameId    gameDate gameTimeEastern homeTeamAbbr visitorTeamAbbr  week\n",
       "0  2018090600  09/06/2018        20:20:00          PHI             ATL     1\n",
       "1  2018090901  09/09/2018        13:00:00          CLE             PIT     1\n",
       "2  2018090902  09/09/2018        13:00:00          IND             CIN     1\n",
       "3  2018090903  09/09/2018        13:00:00          MIA             TEN     1\n",
       "4  2018090900  09/09/2018        13:00:00          BAL             BUF     1\n",
       "5  2018090905  09/09/2018        13:00:00           NE             HOU     1\n",
       "6  2018090907  09/09/2018        13:00:00          NYG             JAX     1\n",
       "7  2018090906  09/09/2018        13:00:00           NO              TB     1\n",
       "8  2018090909  09/09/2018        16:25:00          ARI             WAS     1\n",
       "9  2018090910  09/09/2018        16:25:00          CAR             DAL     1"
      ],
      "text/html": "<div>\n<style scoped>\n    .dataframe tbody tr th:only-of-type {\n        vertical-align: middle;\n    }\n\n    .dataframe tbody tr th {\n        vertical-align: top;\n    }\n\n    .dataframe thead th {\n        text-align: right;\n    }\n</style>\n<table border=\"1\" class=\"dataframe\">\n  <thead>\n    <tr style=\"text-align: right;\">\n      <th></th>\n      <th>gameId</th>\n      <th>gameDate</th>\n      <th>gameTimeEastern</th>\n      <th>homeTeamAbbr</th>\n      <th>visitorTeamAbbr</th>\n      <th>week</th>\n    </tr>\n  </thead>\n  <tbody>\n    <tr>\n      <th>0</th>\n      <td>2018090600</td>\n      <td>09/06/2018</td>\n      <td>20:20:00</td>\n      <td>PHI</td>\n      <td>ATL</td>\n      <td>1</td>\n    </tr>\n    <tr>\n      <th>1</th>\n      <td>2018090901</td>\n      <td>09/09/2018</td>\n      <td>13:00:00</td>\n      <td>CLE</td>\n      <td>PIT</td>\n      <td>1</td>\n    </tr>\n    <tr>\n      <th>2</th>\n      <td>2018090902</td>\n      <td>09/09/2018</td>\n      <td>13:00:00</td>\n      <td>IND</td>\n      <td>CIN</td>\n      <td>1</td>\n    </tr>\n    <tr>\n      <th>3</th>\n      <td>2018090903</td>\n      <td>09/09/2018</td>\n      <td>13:00:00</td>\n      <td>MIA</td>\n      <td>TEN</td>\n      <td>1</td>\n    </tr>\n    <tr>\n      <th>4</th>\n      <td>2018090900</td>\n      <td>09/09/2018</td>\n      <td>13:00:00</td>\n      <td>BAL</td>\n      <td>BUF</td>\n      <td>1</td>\n    </tr>\n    <tr>\n      <th>5</th>\n      <td>2018090905</td>\n      <td>09/09/2018</td>\n      <td>13:00:00</td>\n      <td>NE</td>\n      <td>HOU</td>\n      <td>1</td>\n    </tr>\n    <tr>\n      <th>6</th>\n      <td>2018090907</td>\n      <td>09/09/2018</td>\n      <td>13:00:00</td>\n      <td>NYG</td>\n      <td>JAX</td>\n      <td>1</td>\n    </tr>\n    <tr>\n      <th>7</th>\n      <td>2018090906</td>\n      <td>09/09/2018</td>\n      <td>13:00:00</td>\n      <td>NO</td>\n      <td>TB</td>\n      <td>1</td>\n    </tr>\n    <tr>\n      <th>8</th>\n      <td>2018090909</td>\n      <td>09/09/2018</td>\n      <td>16:25:00</td>\n      <td>ARI</td>\n      <td>WAS</td>\n      <td>1</td>\n    </tr>\n    <tr>\n      <th>9</th>\n      <td>2018090910</td>\n      <td>09/09/2018</td>\n      <td>16:25:00</td>\n      <td>CAR</td>\n      <td>DAL</td>\n      <td>1</td>\n    </tr>\n  </tbody>\n</table>\n</div>"
     },
     "metadata": {},
     "execution_count": 68
    }
   ],
   "source": [
    "games_df.limit(10).toPandas()"
   ]
  },
  {
   "cell_type": "code",
   "execution_count": 70,
   "metadata": {},
   "outputs": [
    {
     "output_type": "stream",
     "name": "stdout",
     "text": [
      "root\n |-- nflId: integer (nullable = true)\n |-- height: string (nullable = true)\n |-- weight: integer (nullable = true)\n |-- birthDate: string (nullable = true)\n |-- collegeName: string (nullable = true)\n |-- position: string (nullable = true)\n |-- displayName: string (nullable = true)\n\n"
     ]
    }
   ],
   "source": [
    "# read in players\n",
    "players_df = sc.read.csv(\"../data/players.csv\", inferSchema=True, header=True)\n",
    "players_df.printSchema()"
   ]
  },
  {
   "cell_type": "code",
   "execution_count": 72,
   "metadata": {},
   "outputs": [
    {
     "output_type": "execute_result",
     "data": {
      "text/plain": [
       "        column  n_missing  n_distinct\n",
       "0        nflId          0        1303\n",
       "1       height          0          29\n",
       "2       weight          0         139\n",
       "3    birthDate          0        1150\n",
       "4  collegeName          0         251\n",
       "5     position          0          21\n",
       "6  displayName          0        1298"
      ],
      "text/html": "<div>\n<style scoped>\n    .dataframe tbody tr th:only-of-type {\n        vertical-align: middle;\n    }\n\n    .dataframe tbody tr th {\n        vertical-align: top;\n    }\n\n    .dataframe thead th {\n        text-align: right;\n    }\n</style>\n<table border=\"1\" class=\"dataframe\">\n  <thead>\n    <tr style=\"text-align: right;\">\n      <th></th>\n      <th>column</th>\n      <th>n_missing</th>\n      <th>n_distinct</th>\n    </tr>\n  </thead>\n  <tbody>\n    <tr>\n      <th>0</th>\n      <td>nflId</td>\n      <td>0</td>\n      <td>1303</td>\n    </tr>\n    <tr>\n      <th>1</th>\n      <td>height</td>\n      <td>0</td>\n      <td>29</td>\n    </tr>\n    <tr>\n      <th>2</th>\n      <td>weight</td>\n      <td>0</td>\n      <td>139</td>\n    </tr>\n    <tr>\n      <th>3</th>\n      <td>birthDate</td>\n      <td>0</td>\n      <td>1150</td>\n    </tr>\n    <tr>\n      <th>4</th>\n      <td>collegeName</td>\n      <td>0</td>\n      <td>251</td>\n    </tr>\n    <tr>\n      <th>5</th>\n      <td>position</td>\n      <td>0</td>\n      <td>21</td>\n    </tr>\n    <tr>\n      <th>6</th>\n      <td>displayName</td>\n      <td>0</td>\n      <td>1298</td>\n    </tr>\n  </tbody>\n</table>\n</div>"
     },
     "metadata": {},
     "execution_count": 72
    }
   ],
   "source": [
    "missing_plyrs = get_missing_vals_cnt(players_df)\n",
    "distinct_plyrs = get_distinct_vals(players_df)\n",
    "missing_plyrs.merge(distinct_plyrs, on='column', how='inner')"
   ]
  },
  {
   "cell_type": "code",
   "execution_count": 73,
   "metadata": {},
   "outputs": [
    {
     "output_type": "execute_result",
     "data": {
      "text/plain": [
       "     nflId height  weight   birthDate             collegeName position  \\\n",
       "0  2539334     72     190  1990-09-10              Washington       CB   \n",
       "1  2539653     70     186  1988-11-01  Southeastern Louisiana       CB   \n",
       "2  2543850     69     186  1991-12-18                  Purdue       SS   \n",
       "3  2555162     73     227  1994-11-04         Louisiana State      MLB   \n",
       "4  2555255     75     232  1993-07-01               Minnesota      OLB   \n",
       "5  2555543     73     216  1995-07-26                 Florida       FS   \n",
       "6  2556445     70     211  1992-10-20                 Florida       CB   \n",
       "7  2507763    6-0     200  08/01/1986             Mississippi       WR   \n",
       "8  2532842     78     243  1989-01-20                 Arizona       QB   \n",
       "9  2540158     77     250  1990-11-10                Stanford       TE   \n",
       "\n",
       "          displayName  \n",
       "0     Desmond Trufant  \n",
       "1       Robert Alford  \n",
       "2       Ricardo Allen  \n",
       "3         Deion Jones  \n",
       "4  De'Vondre Campbell  \n",
       "5          Keanu Neal  \n",
       "6         Brian Poole  \n",
       "7        Mike Wallace  \n",
       "8          Nick Foles  \n",
       "9           Zach Ertz  "
      ],
      "text/html": "<div>\n<style scoped>\n    .dataframe tbody tr th:only-of-type {\n        vertical-align: middle;\n    }\n\n    .dataframe tbody tr th {\n        vertical-align: top;\n    }\n\n    .dataframe thead th {\n        text-align: right;\n    }\n</style>\n<table border=\"1\" class=\"dataframe\">\n  <thead>\n    <tr style=\"text-align: right;\">\n      <th></th>\n      <th>nflId</th>\n      <th>height</th>\n      <th>weight</th>\n      <th>birthDate</th>\n      <th>collegeName</th>\n      <th>position</th>\n      <th>displayName</th>\n    </tr>\n  </thead>\n  <tbody>\n    <tr>\n      <th>0</th>\n      <td>2539334</td>\n      <td>72</td>\n      <td>190</td>\n      <td>1990-09-10</td>\n      <td>Washington</td>\n      <td>CB</td>\n      <td>Desmond Trufant</td>\n    </tr>\n    <tr>\n      <th>1</th>\n      <td>2539653</td>\n      <td>70</td>\n      <td>186</td>\n      <td>1988-11-01</td>\n      <td>Southeastern Louisiana</td>\n      <td>CB</td>\n      <td>Robert Alford</td>\n    </tr>\n    <tr>\n      <th>2</th>\n      <td>2543850</td>\n      <td>69</td>\n      <td>186</td>\n      <td>1991-12-18</td>\n      <td>Purdue</td>\n      <td>SS</td>\n      <td>Ricardo Allen</td>\n    </tr>\n    <tr>\n      <th>3</th>\n      <td>2555162</td>\n      <td>73</td>\n      <td>227</td>\n      <td>1994-11-04</td>\n      <td>Louisiana State</td>\n      <td>MLB</td>\n      <td>Deion Jones</td>\n    </tr>\n    <tr>\n      <th>4</th>\n      <td>2555255</td>\n      <td>75</td>\n      <td>232</td>\n      <td>1993-07-01</td>\n      <td>Minnesota</td>\n      <td>OLB</td>\n      <td>De'Vondre Campbell</td>\n    </tr>\n    <tr>\n      <th>5</th>\n      <td>2555543</td>\n      <td>73</td>\n      <td>216</td>\n      <td>1995-07-26</td>\n      <td>Florida</td>\n      <td>FS</td>\n      <td>Keanu Neal</td>\n    </tr>\n    <tr>\n      <th>6</th>\n      <td>2556445</td>\n      <td>70</td>\n      <td>211</td>\n      <td>1992-10-20</td>\n      <td>Florida</td>\n      <td>CB</td>\n      <td>Brian Poole</td>\n    </tr>\n    <tr>\n      <th>7</th>\n      <td>2507763</td>\n      <td>6-0</td>\n      <td>200</td>\n      <td>08/01/1986</td>\n      <td>Mississippi</td>\n      <td>WR</td>\n      <td>Mike Wallace</td>\n    </tr>\n    <tr>\n      <th>8</th>\n      <td>2532842</td>\n      <td>78</td>\n      <td>243</td>\n      <td>1989-01-20</td>\n      <td>Arizona</td>\n      <td>QB</td>\n      <td>Nick Foles</td>\n    </tr>\n    <tr>\n      <th>9</th>\n      <td>2540158</td>\n      <td>77</td>\n      <td>250</td>\n      <td>1990-11-10</td>\n      <td>Stanford</td>\n      <td>TE</td>\n      <td>Zach Ertz</td>\n    </tr>\n  </tbody>\n</table>\n</div>"
     },
     "metadata": {},
     "execution_count": 73
    }
   ],
   "source": [
    "players_df.limit(10).toPandas()"
   ]
  },
  {
   "cell_type": "code",
   "execution_count": 87,
   "metadata": {},
   "outputs": [
    {
     "output_type": "stream",
     "name": "stdout",
     "text": [
      "+------+\n|height|\n+------+\n|  5-10|\n|  5-11|\n|   5-6|\n|   5-7|\n|   5-8|\n|   5-9|\n|   6-0|\n|   6-1|\n|   6-2|\n|   6-3|\n|   6-4|\n|   6-5|\n|   6-6|\n|   6-7|\n+------+\n\n"
     ]
    }
   ],
   "source": [
    "players_df.filter(col(\"height\").contains(\"-\")).select(\"height\").distinct().sort(\"height\").show()"
   ]
  },
  {
   "cell_type": "code",
   "execution_count": 88,
   "metadata": {},
   "outputs": [],
   "source": [
    "players_df = (players_df.withColumn(\"height\", when(col(\"height\") == '5-10', \"70\")\n",
    "                                .when(col(\"height\") == '6-0', '72')\n",
    "                                .when(col(\"height\") == '5-9', '69')\n",
    "                                .when(col(\"height\") == '6-2', '74')\n",
    "                                .when(col(\"height\") == '6-1', '73')\n",
    "                                .when(col(\"height\") == '6-6', '78')\n",
    "                                .when(col(\"height\") == '5-7', \"67\")\n",
    "                                .when(col(\"height\") == '6-3', '75')\n",
    "                                .when(col(\"height\") == '5-8', \"68\")\n",
    "                                .when(col(\"height\") == '5-6', \"66\")\n",
    "                                .when(col(\"height\") == '6-5', \"77\")\n",
    "                                .when(col(\"height\") == '6-4', \"76\")\n",
    "                                .when(col(\"height\") == '5-11', \"71\")\n",
    "                                .when(col(\"height\") == '6-7', \"79\")\n",
    "                                .otherwise(col(\"height\"))))\n",
    "players_df = players_df.withColumn(\"height\", col(\"height\").cast(IntegerType()))"
   ]
  },
  {
   "cell_type": "code",
   "execution_count": 89,
   "metadata": {},
   "outputs": [],
   "source": [
    "def toDate(col, formats=(\"yyyy-MM-dd\", \"MM/dd/yyyy\")):\n",
    "    \"\"\"\n",
    "    Converts multiple string dates into one format. \n",
    "    The function was adopted from https://stackoverflow.com/questions/46594750/cast-column-containing-multiple-string-date-formats-to-datetime-in-spark\n",
    "\n",
    "    Args:\n",
    "        col: Name of column to convert\n",
    "        formats: List of date formats in the column\n",
    "\n",
    "    Returns:\n",
    "        Reformats dates so that they are a single format and casts to a DateType()\n",
    "    \"\"\"\n",
    "    return coalesce(*[to_date(col, f) for f in formats])"
   ]
  },
  {
   "cell_type": "code",
   "execution_count": 90,
   "metadata": {},
   "outputs": [],
   "source": [
    "players_df = players_df.withColumn(\"birthDate\", toDate(\"birthDate\"))"
   ]
  },
  {
   "cell_type": "code",
   "execution_count": 92,
   "metadata": {},
   "outputs": [
    {
     "output_type": "execute_result",
     "data": {
      "text/plain": [
       "     nflId  height  weight   birthDate             collegeName position  \\\n",
       "0  2539334      72     190  1990-09-10              Washington       CB   \n",
       "1  2539653      70     186  1988-11-01  Southeastern Louisiana       CB   \n",
       "2  2543850      69     186  1991-12-18                  Purdue       SS   \n",
       "3  2555162      73     227  1994-11-04         Louisiana State      MLB   \n",
       "4  2555255      75     232  1993-07-01               Minnesota      OLB   \n",
       "5  2555543      73     216  1995-07-26                 Florida       FS   \n",
       "6  2556445      70     211  1992-10-20                 Florida       CB   \n",
       "7  2507763      72     200  1986-08-01             Mississippi       WR   \n",
       "8  2532842      78     243  1989-01-20                 Arizona       QB   \n",
       "9  2540158      77     250  1990-11-10                Stanford       TE   \n",
       "\n",
       "          displayName  \n",
       "0     Desmond Trufant  \n",
       "1       Robert Alford  \n",
       "2       Ricardo Allen  \n",
       "3         Deion Jones  \n",
       "4  De'Vondre Campbell  \n",
       "5          Keanu Neal  \n",
       "6         Brian Poole  \n",
       "7        Mike Wallace  \n",
       "8          Nick Foles  \n",
       "9           Zach Ertz  "
      ],
      "text/html": "<div>\n<style scoped>\n    .dataframe tbody tr th:only-of-type {\n        vertical-align: middle;\n    }\n\n    .dataframe tbody tr th {\n        vertical-align: top;\n    }\n\n    .dataframe thead th {\n        text-align: right;\n    }\n</style>\n<table border=\"1\" class=\"dataframe\">\n  <thead>\n    <tr style=\"text-align: right;\">\n      <th></th>\n      <th>nflId</th>\n      <th>height</th>\n      <th>weight</th>\n      <th>birthDate</th>\n      <th>collegeName</th>\n      <th>position</th>\n      <th>displayName</th>\n    </tr>\n  </thead>\n  <tbody>\n    <tr>\n      <th>0</th>\n      <td>2539334</td>\n      <td>72</td>\n      <td>190</td>\n      <td>1990-09-10</td>\n      <td>Washington</td>\n      <td>CB</td>\n      <td>Desmond Trufant</td>\n    </tr>\n    <tr>\n      <th>1</th>\n      <td>2539653</td>\n      <td>70</td>\n      <td>186</td>\n      <td>1988-11-01</td>\n      <td>Southeastern Louisiana</td>\n      <td>CB</td>\n      <td>Robert Alford</td>\n    </tr>\n    <tr>\n      <th>2</th>\n      <td>2543850</td>\n      <td>69</td>\n      <td>186</td>\n      <td>1991-12-18</td>\n      <td>Purdue</td>\n      <td>SS</td>\n      <td>Ricardo Allen</td>\n    </tr>\n    <tr>\n      <th>3</th>\n      <td>2555162</td>\n      <td>73</td>\n      <td>227</td>\n      <td>1994-11-04</td>\n      <td>Louisiana State</td>\n      <td>MLB</td>\n      <td>Deion Jones</td>\n    </tr>\n    <tr>\n      <th>4</th>\n      <td>2555255</td>\n      <td>75</td>\n      <td>232</td>\n      <td>1993-07-01</td>\n      <td>Minnesota</td>\n      <td>OLB</td>\n      <td>De'Vondre Campbell</td>\n    </tr>\n    <tr>\n      <th>5</th>\n      <td>2555543</td>\n      <td>73</td>\n      <td>216</td>\n      <td>1995-07-26</td>\n      <td>Florida</td>\n      <td>FS</td>\n      <td>Keanu Neal</td>\n    </tr>\n    <tr>\n      <th>6</th>\n      <td>2556445</td>\n      <td>70</td>\n      <td>211</td>\n      <td>1992-10-20</td>\n      <td>Florida</td>\n      <td>CB</td>\n      <td>Brian Poole</td>\n    </tr>\n    <tr>\n      <th>7</th>\n      <td>2507763</td>\n      <td>72</td>\n      <td>200</td>\n      <td>1986-08-01</td>\n      <td>Mississippi</td>\n      <td>WR</td>\n      <td>Mike Wallace</td>\n    </tr>\n    <tr>\n      <th>8</th>\n      <td>2532842</td>\n      <td>78</td>\n      <td>243</td>\n      <td>1989-01-20</td>\n      <td>Arizona</td>\n      <td>QB</td>\n      <td>Nick Foles</td>\n    </tr>\n    <tr>\n      <th>9</th>\n      <td>2540158</td>\n      <td>77</td>\n      <td>250</td>\n      <td>1990-11-10</td>\n      <td>Stanford</td>\n      <td>TE</td>\n      <td>Zach Ertz</td>\n    </tr>\n  </tbody>\n</table>\n</div>"
     },
     "metadata": {},
     "execution_count": 92
    }
   ],
   "source": [
    "players_df.limit(10).toPandas()"
   ]
  },
  {
   "cell_type": "code",
   "execution_count": 163,
   "metadata": {},
   "outputs": [],
   "source": [
    "num_college_players = players_df.groupBy(\"collegeName\").agg(count(\"displayName\").alias(\"numPlayers\")).sort(\"numPlayers\", ascending=False).toPandas()"
   ]
  },
  {
   "cell_type": "code",
   "execution_count": 164,
   "metadata": {},
   "outputs": [
    {
     "output_type": "execute_result",
     "data": {
      "text/html": "\n<div id=\"altair-viz-a693261bb1274c92b9210f0e01cc0de1\"></div>\n<script type=\"text/javascript\">\n  (function(spec, embedOpt){\n    let outputDiv = document.currentScript.previousElementSibling;\n    if (outputDiv.id !== \"altair-viz-a693261bb1274c92b9210f0e01cc0de1\") {\n      outputDiv = document.getElementById(\"altair-viz-a693261bb1274c92b9210f0e01cc0de1\");\n    }\n    const paths = {\n      \"vega\": \"https://cdn.jsdelivr.net/npm//vega@5?noext\",\n      \"vega-lib\": \"https://cdn.jsdelivr.net/npm//vega-lib?noext\",\n      \"vega-lite\": \"https://cdn.jsdelivr.net/npm//vega-lite@4.8.1?noext\",\n      \"vega-embed\": \"https://cdn.jsdelivr.net/npm//vega-embed@6?noext\",\n    };\n\n    function loadScript(lib) {\n      return new Promise(function(resolve, reject) {\n        var s = document.createElement('script');\n        s.src = paths[lib];\n        s.async = true;\n        s.onload = () => resolve(paths[lib]);\n        s.onerror = () => reject(`Error loading script: ${paths[lib]}`);\n        document.getElementsByTagName(\"head\")[0].appendChild(s);\n      });\n    }\n\n    function showError(err) {\n      outputDiv.innerHTML = `<div class=\"error\" style=\"color:red;\">${err}</div>`;\n      throw err;\n    }\n\n    function displayChart(vegaEmbed) {\n      vegaEmbed(outputDiv, spec, embedOpt)\n        .catch(err => showError(`Javascript Error: ${err.message}<br>This usually means there's a typo in your chart specification. See the javascript console for the full traceback.`));\n    }\n\n    if(typeof define === \"function\" && define.amd) {\n      requirejs.config({paths});\n      require([\"vega-embed\"], displayChart, err => showError(`Error loading script: ${err.message}`));\n    } else if (typeof vegaEmbed === \"function\") {\n      displayChart(vegaEmbed);\n    } else {\n      loadScript(\"vega\")\n        .then(() => loadScript(\"vega-lite\"))\n        .then(() => loadScript(\"vega-embed\"))\n        .catch(showError)\n        .then(() => displayChart(vegaEmbed));\n    }\n  })({\"config\": {\"view\": {\"continuousWidth\": 400, \"continuousHeight\": 300}}, \"layer\": [{\"mark\": {\"type\": \"bar\", \"color\": \"steelblue\"}, \"encoding\": {\"x\": {\"type\": \"nominal\", \"field\": \"collegeName\", \"title\": \"\"}, \"y\": {\"type\": \"quantitative\", \"field\": \"numPlayers\", \"title\": \"Count\"}}, \"title\": \"Number of College Players in The NFL\"}, {\"mark\": {\"type\": \"rule\", \"color\": \"red\"}, \"encoding\": {\"y\": {\"type\": \"quantitative\", \"aggregate\": \"mean\", \"field\": \"numPlayers\"}}}], \"data\": {\"name\": \"data-00836bc674e8bb70c3ea799d537e1a87\"}, \"$schema\": \"https://vega.github.io/schema/vega-lite/v4.8.1.json\", \"datasets\": {\"data-00836bc674e8bb70c3ea799d537e1a87\": [{\"collegeName\": \"Alabama\", \"numPlayers\": 33}, {\"collegeName\": \"Ohio State\", \"numPlayers\": 28}, {\"collegeName\": \"Florida State\", \"numPlayers\": 27}, {\"collegeName\": \"Florida\", \"numPlayers\": 26}, {\"collegeName\": \"Louisiana State\", \"numPlayers\": 25}, {\"collegeName\": \"Miami\", \"numPlayers\": 24}, {\"collegeName\": \"Georgia\", \"numPlayers\": 23}, {\"collegeName\": \"Clemson\", \"numPlayers\": 23}, {\"collegeName\": \"Stanford\", \"numPlayers\": 22}, {\"collegeName\": \"Washington\", \"numPlayers\": 20}, {\"collegeName\": \"Oklahoma\", \"numPlayers\": 20}, {\"collegeName\": \"Auburn\", \"numPlayers\": 19}, {\"collegeName\": \"Penn State\", \"numPlayers\": 19}, {\"collegeName\": \"Notre Dame\", \"numPlayers\": 19}, {\"collegeName\": \"Texas\", \"numPlayers\": 18}, {\"collegeName\": \"Southern California\", \"numPlayers\": 18}, {\"collegeName\": \"South Carolina\", \"numPlayers\": 18}, {\"collegeName\": \"Texas A&M\", \"numPlayers\": 17}, {\"collegeName\": \"Central Florida\", \"numPlayers\": 16}, {\"collegeName\": \"Michigan\", \"numPlayers\": 15}, {\"collegeName\": \"Mississippi\", \"numPlayers\": 15}, {\"collegeName\": \"Tennessee\", \"numPlayers\": 15}, {\"collegeName\": \"Wisconsin\", \"numPlayers\": 15}, {\"collegeName\": \"Oregon\", \"numPlayers\": 14}, {\"collegeName\": \"Pittsburgh\", \"numPlayers\": 14}, {\"collegeName\": \"West Virginia\", \"numPlayers\": 14}, {\"collegeName\": \"North Carolina\", \"numPlayers\": 14}, {\"collegeName\": \"California\", \"numPlayers\": 14}, {\"collegeName\": \"Mississippi State\", \"numPlayers\": 13}, {\"collegeName\": \"Michigan State\", \"numPlayers\": 13}, {\"collegeName\": \"Iowa\", \"numPlayers\": 13}, {\"collegeName\": \"Virginia Tech\", \"numPlayers\": 13}, {\"collegeName\": \"Louisville\", \"numPlayers\": 12}, {\"collegeName\": \"UCLA\", \"numPlayers\": 12}, {\"collegeName\": \"Virginia\", \"numPlayers\": 12}, {\"collegeName\": \"North Carolina State\", \"numPlayers\": 12}, {\"collegeName\": \"Southern Methodist\", \"numPlayers\": 12}, {\"collegeName\": \"Temple\", \"numPlayers\": 11}, {\"collegeName\": \"Boston College\", \"numPlayers\": 11}, {\"collegeName\": \"USC\", \"numPlayers\": 11}, {\"collegeName\": \"Vanderbilt\", \"numPlayers\": 11}, {\"collegeName\": \"Oregon State\", \"numPlayers\": 11}, {\"collegeName\": \"Rutgers\", \"numPlayers\": 11}, {\"collegeName\": \"Maryland\", \"numPlayers\": 11}, {\"collegeName\": \"Utah\", \"numPlayers\": 10}, {\"collegeName\": \"Nebraska\", \"numPlayers\": 10}, {\"collegeName\": \"LSU\", \"numPlayers\": 10}, {\"collegeName\": \"Texas Tech\", \"numPlayers\": 10}, {\"collegeName\": \"Missouri\", \"numPlayers\": 10}, {\"collegeName\": \"Illinois\", \"numPlayers\": 9}, {\"collegeName\": \"Boise State\", \"numPlayers\": 9}, {\"collegeName\": \"Colorado\", \"numPlayers\": 9}, {\"collegeName\": \"Northwestern\", \"numPlayers\": 8}, {\"collegeName\": \"Arkansas\", \"numPlayers\": 8}, {\"collegeName\": \"Connecticut\", \"numPlayers\": 8}, {\"collegeName\": \"Oklahoma State\", \"numPlayers\": 8}, {\"collegeName\": \"Utah State\", \"numPlayers\": 8}, {\"collegeName\": \"Purdue\", \"numPlayers\": 8}, {\"collegeName\": \"Houston\", \"numPlayers\": 8}, {\"collegeName\": \"Kansas State\", \"numPlayers\": 7}, {\"collegeName\": \"Memphis\", \"numPlayers\": 7}, {\"collegeName\": \"Georgia Tech\", \"numPlayers\": 7}, {\"collegeName\": \"Toledo\", \"numPlayers\": 7}, {\"collegeName\": \"Southern Mississippi\", \"numPlayers\": 7}, {\"collegeName\": \"Rice\", \"numPlayers\": 7}, {\"collegeName\": \"Cincinnati\", \"numPlayers\": 7}, {\"collegeName\": \"Minnesota\", \"numPlayers\": 6}, {\"collegeName\": \"Texas Christian\", \"numPlayers\": 6}, {\"collegeName\": \"North Dakota State\", \"numPlayers\": 6}, {\"collegeName\": \"San Jose State\", \"numPlayers\": 6}, {\"collegeName\": \"Baylor\", \"numPlayers\": 6}, {\"collegeName\": \"South Florida\", \"numPlayers\": 6}, {\"collegeName\": \"Wake Forest\", \"numPlayers\": 6}, {\"collegeName\": \"Wyoming\", \"numPlayers\": 6}, {\"collegeName\": \"Arizona\", \"numPlayers\": 6}, {\"collegeName\": \"Brigham Young\", \"numPlayers\": 6}, {\"collegeName\": \"Louisiana Tech\", \"numPlayers\": 6}, {\"collegeName\": \"Kentucky\", \"numPlayers\": 6}, {\"collegeName\": \"Central Michigan\", \"numPlayers\": 6}, {\"collegeName\": \"Arizona State\", \"numPlayers\": 6}, {\"collegeName\": \"East Carolina\", \"numPlayers\": 5}, {\"collegeName\": \"Fresno State\", \"numPlayers\": 5}, {\"collegeName\": \"Marshall\", \"numPlayers\": 5}, {\"collegeName\": \"Florida Atlantic\", \"numPlayers\": 5}, {\"collegeName\": \"Indiana\", \"numPlayers\": 5}, {\"collegeName\": \"Harvard\", \"numPlayers\": 5}, {\"collegeName\": \"Northern Illinois\", \"numPlayers\": 5}, {\"collegeName\": \"South Carolina State\", \"numPlayers\": 4}, {\"collegeName\": \"Western Kentucky\", \"numPlayers\": 4}, {\"collegeName\": \"Duke\", \"numPlayers\": 4}, {\"collegeName\": \"Delaware\", \"numPlayers\": 4}, {\"collegeName\": \"Colorado State\", \"numPlayers\": 4}, {\"collegeName\": \"Eastern Washington\", \"numPlayers\": 4}, {\"collegeName\": \"West Alabama\", \"numPlayers\": 4}, {\"collegeName\": \"Appalachian State\", \"numPlayers\": 4}, {\"collegeName\": \"Washington State\", \"numPlayers\": 4}, {\"collegeName\": \"Tulane\", \"numPlayers\": 4}, {\"collegeName\": \"Syracuse\", \"numPlayers\": 4}, {\"collegeName\": \"San Diego State\", \"numPlayers\": 4}, {\"collegeName\": \"Alabama-Birmingham\", \"numPlayers\": 3}, {\"collegeName\": \"Ohio\", \"numPlayers\": 3}, {\"collegeName\": \"Illinois State\", \"numPlayers\": 3}, {\"collegeName\": \"Georgia Southern\", \"numPlayers\": 3}, {\"collegeName\": \"North Texas\", \"numPlayers\": 3}, {\"collegeName\": \"Kent State\", \"numPlayers\": 3}, {\"collegeName\": \"San Diego\", \"numPlayers\": 3}, {\"collegeName\": \"Nevada\", \"numPlayers\": 3}, {\"collegeName\": \"Portland State\", \"numPlayers\": 3}, {\"collegeName\": \"James Madison\", \"numPlayers\": 3}, {\"collegeName\": \"Middle Tennessee\", \"numPlayers\": 3}, {\"collegeName\": \"Miami (Fla.)\", \"numPlayers\": 3}, {\"collegeName\": \"Iowa State\", \"numPlayers\": 3}, {\"collegeName\": \"Western Michigan\", \"numPlayers\": 3}, {\"collegeName\": \"Kansas\", \"numPlayers\": 3}, {\"collegeName\": \"Coastal Carolina\", \"numPlayers\": 3}, {\"collegeName\": \"Northern Iowa\", \"numPlayers\": 3}, {\"collegeName\": \"Samford\", \"numPlayers\": 3}, {\"collegeName\": \"Idaho\", \"numPlayers\": 3}, {\"collegeName\": \"Jacksonville State\", \"numPlayers\": 2}, {\"collegeName\": \"Weber State\", \"numPlayers\": 2}, {\"collegeName\": \"Eastern Illinois\", \"numPlayers\": 2}, {\"collegeName\": \"Eastern Kentucky\", \"numPlayers\": 2}, {\"collegeName\": \"Chattanooga\", \"numPlayers\": 2}, {\"collegeName\": \"Florida International\", \"numPlayers\": 2}, {\"collegeName\": \"Texas-El Paso\", \"numPlayers\": 2}, {\"collegeName\": \"Georgia State\", \"numPlayers\": 2}, {\"collegeName\": \"North Carolina A&T\", \"numPlayers\": 2}, {\"collegeName\": \"Tennessee State\", \"numPlayers\": 2}, {\"collegeName\": \"Arkansas State\", \"numPlayers\": 2}, {\"collegeName\": \"South Alabama\", \"numPlayers\": 2}, {\"collegeName\": \"Akron\", \"numPlayers\": 2}, {\"collegeName\": \"New Mexico\", \"numPlayers\": 2}, {\"collegeName\": \"Grand Valley State\", \"numPlayers\": 2}, {\"collegeName\": \"California, Pa.\", \"numPlayers\": 2}, {\"collegeName\": \"Louisiana-Lafayette\", \"numPlayers\": 2}, {\"collegeName\": \"Abilene Christian\", \"numPlayers\": 2}, {\"collegeName\": \"Old Dominion\", \"numPlayers\": 2}, {\"collegeName\": \"Central Arkansas\", \"numPlayers\": 2}, {\"collegeName\": \"Western Carolina\", \"numPlayers\": 2}, {\"collegeName\": \"Villanova\", \"numPlayers\": 2}, {\"collegeName\": \"California-Davis\", \"numPlayers\": 2}, {\"collegeName\": \"Troy\", \"numPlayers\": 2}, {\"collegeName\": \"William & Mary\", \"numPlayers\": 2}, {\"collegeName\": \"West Georgia\", \"numPlayers\": 2}, {\"collegeName\": \"Pittsburg State\", \"numPlayers\": 2}, {\"collegeName\": \"Monmouth, N.J.\", \"numPlayers\": 2}, {\"collegeName\": \"Sacramento State\", \"numPlayers\": 2}, {\"collegeName\": \"Southern Illinois\", \"numPlayers\": 2}, {\"collegeName\": \"Virginia State\", \"numPlayers\": 1}, {\"collegeName\": \"Hawaii\", \"numPlayers\": 1}, {\"collegeName\": \"Bethune-Cookman\", \"numPlayers\": 1}, {\"collegeName\": \"Augustana, S.D.\", \"numPlayers\": 1}, {\"collegeName\": \"Regina, Can.\", \"numPlayers\": 1}, {\"collegeName\": \"Arkansas-Monticello\", \"numPlayers\": 1}, {\"collegeName\": \"Youngstown State\", \"numPlayers\": 1}, {\"collegeName\": \"Delaware State\", \"numPlayers\": 1}, {\"collegeName\": \"Beloit\", \"numPlayers\": 1}, {\"collegeName\": \"Southern Connecticut State\", \"numPlayers\": 1}, {\"collegeName\": \"Grambling\", \"numPlayers\": 1}, {\"collegeName\": \"Wisconsin-Platteville\", \"numPlayers\": 1}, {\"collegeName\": \"Northwest Missouri State\", \"numPlayers\": 1}, {\"collegeName\": \"Texas Southern\", \"numPlayers\": 1}, {\"collegeName\": \"Sam Houston State\", \"numPlayers\": 1}, {\"collegeName\": \"Citadel\", \"numPlayers\": 1}, {\"collegeName\": \"Cal Poly\", \"numPlayers\": 1}, {\"collegeName\": \"Fordham\", \"numPlayers\": 1}, {\"collegeName\": \"Pennsylvania\", \"numPlayers\": 1}, {\"collegeName\": \"California (PA)\", \"numPlayers\": 1}, {\"collegeName\": \"Emporia State\", \"numPlayers\": 1}, {\"collegeName\": \"Incarnate Word\", \"numPlayers\": 1}, {\"collegeName\": \"Princeton\", \"numPlayers\": 1}, {\"collegeName\": \"Limestone\", \"numPlayers\": 1}, {\"collegeName\": \"Ashland\", \"numPlayers\": 1}, {\"collegeName\": \"Northwestern (Ia)\", \"numPlayers\": 1}, {\"collegeName\": \"Miami, O.\", \"numPlayers\": 1}, {\"collegeName\": \"Albany, N.Y.\", \"numPlayers\": 1}, {\"collegeName\": \"North Alabama\", \"numPlayers\": 1}, {\"collegeName\": \"Wagner\", \"numPlayers\": 1}, {\"collegeName\": \"North Carolina Central\", \"numPlayers\": 1}, {\"collegeName\": \"Monmouth (N.J.)\", \"numPlayers\": 1}, {\"collegeName\": \"Western State, Colo.\", \"numPlayers\": 1}, {\"collegeName\": \"Valdosta State\", \"numPlayers\": 1}, {\"collegeName\": \"Grambling State\", \"numPlayers\": 1}, {\"collegeName\": \"Wisconsin-Whitewater\", \"numPlayers\": 1}, {\"collegeName\": \"East Central\", \"numPlayers\": 1}, {\"collegeName\": \"Belhaven\", \"numPlayers\": 1}, {\"collegeName\": \"Shepherd\", \"numPlayers\": 1}, {\"collegeName\": \"Alcorn State\", \"numPlayers\": 1}, {\"collegeName\": \"Missouri State\", \"numPlayers\": 1}, {\"collegeName\": \"Western Washington\", \"numPlayers\": 1}, {\"collegeName\": \"Southern Utah\", \"numPlayers\": 1}, {\"collegeName\": \"Yale\", \"numPlayers\": 1}, {\"collegeName\": \"Kentucky Wesleyan\", \"numPlayers\": 1}, {\"collegeName\": \"Newberry\", \"numPlayers\": 1}, {\"collegeName\": \"Middle Tennessee State\", \"numPlayers\": 1}, {\"collegeName\": \"North Greenville\", \"numPlayers\": 1}, {\"collegeName\": \"Southeastern Louisiana\", \"numPlayers\": 1}, {\"collegeName\": \"Mount Union\", \"numPlayers\": 1}, {\"collegeName\": \"Greenville\", \"numPlayers\": 1}, {\"collegeName\": \"Virginia Commonwealth\", \"numPlayers\": 1}, {\"collegeName\": \"Missouri Southern\", \"numPlayers\": 1}, {\"collegeName\": \"Drake\", \"numPlayers\": 1}, {\"collegeName\": \"Nevada-Las Vegas\", \"numPlayers\": 1}, {\"collegeName\": \"Colorado State-Pueblo\", \"numPlayers\": 1}, {\"collegeName\": \"Idaho State\", \"numPlayers\": 1}, {\"collegeName\": \"Montana\", \"numPlayers\": 1}, {\"collegeName\": \"Wisconsin-Milwaukee\", \"numPlayers\": 1}, {\"collegeName\": \"New Mexico State\", \"numPlayers\": 1}, {\"collegeName\": \"William Penn\", \"numPlayers\": 1}, {\"collegeName\": \"Texas-San Antonio\", \"numPlayers\": 1}, {\"collegeName\": \"Ohio U.\", \"numPlayers\": 1}, {\"collegeName\": \"Ferris State\", \"numPlayers\": 1}, {\"collegeName\": \"Texas State\", \"numPlayers\": 1}, {\"collegeName\": \"Western Oregon\", \"numPlayers\": 1}, {\"collegeName\": \"Lindenwood\", \"numPlayers\": 1}, {\"collegeName\": \"Assumption\", \"numPlayers\": 1}, {\"collegeName\": \"Midwestern State\", \"numPlayers\": 1}, {\"collegeName\": \"Concordia, Minn\", \"numPlayers\": 1}, {\"collegeName\": \"South Dakota State\", \"numPlayers\": 1}, {\"collegeName\": \"Southeast Missouri\", \"numPlayers\": 1}, {\"collegeName\": \"Brown\", \"numPlayers\": 1}, {\"collegeName\": \"Ball State\", \"numPlayers\": 1}, {\"collegeName\": \"Shippensburg\", \"numPlayers\": 1}, {\"collegeName\": \"Southern U.\", \"numPlayers\": 1}, {\"collegeName\": \"Central Missouri State\", \"numPlayers\": 1}, {\"collegeName\": \"Massachusetts\", \"numPlayers\": 1}, {\"collegeName\": \"Canisius\", \"numPlayers\": 1}, {\"collegeName\": \"Tiffin University\", \"numPlayers\": 1}, {\"collegeName\": \"Jacksonville\", \"numPlayers\": 1}, {\"collegeName\": \"Bowie State\", \"numPlayers\": 1}, {\"collegeName\": \"Minn. State-Mankato\", \"numPlayers\": 1}, {\"collegeName\": \"Prairie View\", \"numPlayers\": 1}, {\"collegeName\": \"Tulsa\", \"numPlayers\": 1}, {\"collegeName\": \"New Hampshire\", \"numPlayers\": 1}, {\"collegeName\": \"Buffalo\", \"numPlayers\": 1}, {\"collegeName\": \"Stephen F. Austin\", \"numPlayers\": 1}, {\"collegeName\": \"Alabama State\", \"numPlayers\": 1}, {\"collegeName\": \"Liberty\", \"numPlayers\": 1}, {\"collegeName\": \"Saginaw Valley State\", \"numPlayers\": 1}, {\"collegeName\": \"Laval, Can.\", \"numPlayers\": 1}, {\"collegeName\": \"Eastern Michigan\", \"numPlayers\": 1}, {\"collegeName\": \"California-Irvine\", \"numPlayers\": 1}, {\"collegeName\": \"South Dakota\", \"numPlayers\": 1}, {\"collegeName\": \"Columbia\", \"numPlayers\": 1}, {\"collegeName\": \"Richmond\", \"numPlayers\": 1}, {\"collegeName\": \"Towson\", \"numPlayers\": 1}, {\"collegeName\": \"Hillsdale\", \"numPlayers\": 1}, {\"collegeName\": \"Navy\", \"numPlayers\": 1}, {\"collegeName\": \"Indiana State\", \"numPlayers\": 1}, {\"collegeName\": \"Maine\", \"numPlayers\": 1}, {\"collegeName\": \"Howard\", \"numPlayers\": 1}]}}, {\"mode\": \"vega-lite\"});\n</script>",
      "text/plain": [
       "alt.LayerChart(...)"
      ]
     },
     "metadata": {},
     "execution_count": 164
    }
   ],
   "source": [
    "bar = alt.Chart(num_college_players, title=\"Number of College Players in The NFL\").mark_bar(color=\"steelblue\").encode(alt.X(\"collegeName\", title=\"\"), alt.Y(\"numPlayers\", title=\"Count\"))\n",
    "mean = alt.Chart(num_college_players).mark_rule(color='red').encode(y=\"mean(numPlayers)\")\n",
    "(bar + mean)"
   ]
  },
  {
   "cell_type": "code",
   "execution_count": 182,
   "metadata": {},
   "outputs": [],
   "source": [
    "num_college_pos = players_df.groupBy(\"collegeName\", \"position\").agg(count(\"displayName\").alias(\"numPlayers\")).na.fill(0).toPandas()"
   ]
  },
  {
   "cell_type": "code",
   "execution_count": 183,
   "metadata": {},
   "outputs": [
    {
     "output_type": "execute_result",
     "data": {
      "text/plain": [
       "          collegeName position  numPlayers\n",
       "0    Western Michigan       WR           1\n",
       "1               Miami       DE           2\n",
       "2             Rutgers       RB           1\n",
       "3     California, Pa.       CB           1\n",
       "4                 USC       CB           2\n",
       "..                ...      ...         ...\n",
       "894        Vanderbilt       LS           1\n",
       "895          Michigan       WR           2\n",
       "896              UCLA      MLB           1\n",
       "897  California-Davis        P           2\n",
       "898    Illinois State      MLB           1\n",
       "\n",
       "[899 rows x 3 columns]"
      ],
      "text/html": "<div>\n<style scoped>\n    .dataframe tbody tr th:only-of-type {\n        vertical-align: middle;\n    }\n\n    .dataframe tbody tr th {\n        vertical-align: top;\n    }\n\n    .dataframe thead th {\n        text-align: right;\n    }\n</style>\n<table border=\"1\" class=\"dataframe\">\n  <thead>\n    <tr style=\"text-align: right;\">\n      <th></th>\n      <th>collegeName</th>\n      <th>position</th>\n      <th>numPlayers</th>\n    </tr>\n  </thead>\n  <tbody>\n    <tr>\n      <th>0</th>\n      <td>Western Michigan</td>\n      <td>WR</td>\n      <td>1</td>\n    </tr>\n    <tr>\n      <th>1</th>\n      <td>Miami</td>\n      <td>DE</td>\n      <td>2</td>\n    </tr>\n    <tr>\n      <th>2</th>\n      <td>Rutgers</td>\n      <td>RB</td>\n      <td>1</td>\n    </tr>\n    <tr>\n      <th>3</th>\n      <td>California, Pa.</td>\n      <td>CB</td>\n      <td>1</td>\n    </tr>\n    <tr>\n      <th>4</th>\n      <td>USC</td>\n      <td>CB</td>\n      <td>2</td>\n    </tr>\n    <tr>\n      <th>...</th>\n      <td>...</td>\n      <td>...</td>\n      <td>...</td>\n    </tr>\n    <tr>\n      <th>894</th>\n      <td>Vanderbilt</td>\n      <td>LS</td>\n      <td>1</td>\n    </tr>\n    <tr>\n      <th>895</th>\n      <td>Michigan</td>\n      <td>WR</td>\n      <td>2</td>\n    </tr>\n    <tr>\n      <th>896</th>\n      <td>UCLA</td>\n      <td>MLB</td>\n      <td>1</td>\n    </tr>\n    <tr>\n      <th>897</th>\n      <td>California-Davis</td>\n      <td>P</td>\n      <td>2</td>\n    </tr>\n    <tr>\n      <th>898</th>\n      <td>Illinois State</td>\n      <td>MLB</td>\n      <td>1</td>\n    </tr>\n  </tbody>\n</table>\n<p>899 rows × 3 columns</p>\n</div>"
     },
     "metadata": {},
     "execution_count": 183
    }
   ],
   "source": [
    "num_college_pos"
   ]
  },
  {
   "cell_type": "code",
   "execution_count": 191,
   "metadata": {},
   "outputs": [
    {
     "output_type": "execute_result",
     "data": {
      "text/html": "\n<div id=\"altair-viz-b54366ec6e734c12b86af3e9fe8de39d\"></div>\n<script type=\"text/javascript\">\n  (function(spec, embedOpt){\n    let outputDiv = document.currentScript.previousElementSibling;\n    if (outputDiv.id !== \"altair-viz-b54366ec6e734c12b86af3e9fe8de39d\") {\n      outputDiv = document.getElementById(\"altair-viz-b54366ec6e734c12b86af3e9fe8de39d\");\n    }\n    const paths = {\n      \"vega\": \"https://cdn.jsdelivr.net/npm//vega@5?noext\",\n      \"vega-lib\": \"https://cdn.jsdelivr.net/npm//vega-lib?noext\",\n      \"vega-lite\": \"https://cdn.jsdelivr.net/npm//vega-lite@4.8.1?noext\",\n      \"vega-embed\": \"https://cdn.jsdelivr.net/npm//vega-embed@6?noext\",\n    };\n\n    function loadScript(lib) {\n      return new Promise(function(resolve, reject) {\n        var s = document.createElement('script');\n        s.src = paths[lib];\n        s.async = true;\n        s.onload = () => resolve(paths[lib]);\n        s.onerror = () => reject(`Error loading script: ${paths[lib]}`);\n        document.getElementsByTagName(\"head\")[0].appendChild(s);\n      });\n    }\n\n    function showError(err) {\n      outputDiv.innerHTML = `<div class=\"error\" style=\"color:red;\">${err}</div>`;\n      throw err;\n    }\n\n    function displayChart(vegaEmbed) {\n      vegaEmbed(outputDiv, spec, embedOpt)\n        .catch(err => showError(`Javascript Error: ${err.message}<br>This usually means there's a typo in your chart specification. See the javascript console for the full traceback.`));\n    }\n\n    if(typeof define === \"function\" && define.amd) {\n      requirejs.config({paths});\n      require([\"vega-embed\"], displayChart, err => showError(`Error loading script: ${err.message}`));\n    } else if (typeof vegaEmbed === \"function\") {\n      displayChart(vegaEmbed);\n    } else {\n      loadScript(\"vega\")\n        .then(() => loadScript(\"vega-lite\"))\n        .then(() => loadScript(\"vega-embed\"))\n        .catch(showError)\n        .then(() => displayChart(vegaEmbed));\n    }\n  })({\"config\": {\"view\": {\"continuousWidth\": 400, \"continuousHeight\": 300}, \"title\": {\"align\": \"left\"}}, \"data\": {\"name\": \"data-5e2109590a23caaa035278c50c40a1b2\"}, \"mark\": \"bar\", \"encoding\": {\"color\": {\"type\": \"nominal\", \"field\": \"position\"}, \"x\": {\"type\": \"nominal\", \"field\": \"collegeName\", \"title\": \"\"}, \"y\": {\"type\": \"quantitative\", \"field\": \"numPlayers\", \"title\": \"Count\"}}, \"title\": \"Number of Players in NFL by College & Position\", \"$schema\": \"https://vega.github.io/schema/vega-lite/v4.8.1.json\", \"datasets\": {\"data-5e2109590a23caaa035278c50c40a1b2\": [{\"collegeName\": \"Western Michigan\", \"position\": \"WR\", \"numPlayers\": 1}, {\"collegeName\": \"Miami\", \"position\": \"DE\", \"numPlayers\": 2}, {\"collegeName\": \"Rutgers\", \"position\": \"RB\", \"numPlayers\": 1}, {\"collegeName\": \"California, Pa.\", \"position\": \"CB\", \"numPlayers\": 1}, {\"collegeName\": \"USC\", \"position\": \"CB\", \"numPlayers\": 2}, {\"collegeName\": \"Southern Methodist\", \"position\": \"SS\", \"numPlayers\": 1}, {\"collegeName\": \"Florida\", \"position\": \"DE\", \"numPlayers\": 3}, {\"collegeName\": \"West Georgia\", \"position\": \"RB\", \"numPlayers\": 1}, {\"collegeName\": \"Florida\", \"position\": \"FS\", \"numPlayers\": 4}, {\"collegeName\": \"Arizona State\", \"position\": \"CB\", \"numPlayers\": 1}, {\"collegeName\": \"LSU\", \"position\": \"RB\", \"numPlayers\": 4}, {\"collegeName\": \"Iowa State\", \"position\": \"OLB\", \"numPlayers\": 1}, {\"collegeName\": \"Virginia Tech\", \"position\": \"CB\", \"numPlayers\": 4}, {\"collegeName\": \"Arizona\", \"position\": \"LB\", \"numPlayers\": 1}, {\"collegeName\": \"Baylor\", \"position\": \"TE\", \"numPlayers\": 1}, {\"collegeName\": \"Kansas State\", \"position\": \"DB\", \"numPlayers\": 1}, {\"collegeName\": \"Illinois\", \"position\": \"DB\", \"numPlayers\": 1}, {\"collegeName\": \"Texas A&M\", \"position\": \"DB\", \"numPlayers\": 1}, {\"collegeName\": \"Southern California\", \"position\": \"WR\", \"numPlayers\": 4}, {\"collegeName\": \"Florida State\", \"position\": \"OLB\", \"numPlayers\": 3}, {\"collegeName\": \"Arkansas\", \"position\": \"WR\", \"numPlayers\": 2}, {\"collegeName\": \"Tennessee State\", \"position\": \"CB\", \"numPlayers\": 1}, {\"collegeName\": \"North Dakota State\", \"position\": \"OLB\", \"numPlayers\": 2}, {\"collegeName\": \"Oregon State\", \"position\": \"FS\", \"numPlayers\": 1}, {\"collegeName\": \"Vanderbilt\", \"position\": \"FS\", \"numPlayers\": 1}, {\"collegeName\": \"Louisiana State\", \"position\": \"DT\", \"numPlayers\": 1}, {\"collegeName\": \"Florida\", \"position\": \"OLB\", \"numPlayers\": 3}, {\"collegeName\": \"Marshall\", \"position\": \"CB\", \"numPlayers\": 1}, {\"collegeName\": \"Northern Illinois\", \"position\": \"CB\", \"numPlayers\": 1}, {\"collegeName\": \"Boston College\", \"position\": \"QB\", \"numPlayers\": 1}, {\"collegeName\": \"West Virginia\", \"position\": \"WR\", \"numPlayers\": 3}, {\"collegeName\": \"Tulsa\", \"position\": \"TE\", \"numPlayers\": 1}, {\"collegeName\": \"Maryland\", \"position\": \"SS\", \"numPlayers\": 1}, {\"collegeName\": \"Florida International\", \"position\": \"TE\", \"numPlayers\": 1}, {\"collegeName\": \"Alabama\", \"position\": \"DB\", \"numPlayers\": 1}, {\"collegeName\": \"Central Michigan\", \"position\": \"WR\", \"numPlayers\": 1}, {\"collegeName\": \"Auburn\", \"position\": \"TE\", \"numPlayers\": 1}, {\"collegeName\": \"North Carolina\", \"position\": \"QB\", \"numPlayers\": 1}, {\"collegeName\": \"Boston College\", \"position\": \"OLB\", \"numPlayers\": 4}, {\"collegeName\": \"Georgia\", \"position\": \"LB\", \"numPlayers\": 2}, {\"collegeName\": \"Louisville\", \"position\": \"ILB\", \"numPlayers\": 1}, {\"collegeName\": \"Notre Dame\", \"position\": \"WR\", \"numPlayers\": 5}, {\"collegeName\": \"Kent State\", \"position\": \"TE\", \"numPlayers\": 1}, {\"collegeName\": \"Penn State\", \"position\": \"CB\", \"numPlayers\": 2}, {\"collegeName\": \"Utah State\", \"position\": \"RB\", \"numPlayers\": 1}, {\"collegeName\": \"Oklahoma\", \"position\": \"P\", \"numPlayers\": 1}, {\"collegeName\": \"Oregon State\", \"position\": \"FB\", \"numPlayers\": 1}, {\"collegeName\": \"Boise State\", \"position\": \"CB\", \"numPlayers\": 3}, {\"collegeName\": \"Texas Tech\", \"position\": \"QB\", \"numPlayers\": 1}, {\"collegeName\": \"Illinois\", \"position\": \"TE\", \"numPlayers\": 1}, {\"collegeName\": \"Boston College\", \"position\": \"MLB\", \"numPlayers\": 1}, {\"collegeName\": \"Towson\", \"position\": \"S\", \"numPlayers\": 1}, {\"collegeName\": \"Cincinnati\", \"position\": \"CB\", \"numPlayers\": 1}, {\"collegeName\": \"West Alabama\", \"position\": \"CB\", \"numPlayers\": 1}, {\"collegeName\": \"Rutgers\", \"position\": \"FS\", \"numPlayers\": 2}, {\"collegeName\": \"Western Oregon\", \"position\": \"WR\", \"numPlayers\": 1}, {\"collegeName\": \"Wyoming\", \"position\": \"TE\", \"numPlayers\": 1}, {\"collegeName\": \"North Dakota State\", \"position\": \"QB\", \"numPlayers\": 1}, {\"collegeName\": \"Louisiana State\", \"position\": \"SS\", \"numPlayers\": 2}, {\"collegeName\": \"Texas\", \"position\": \"FS\", \"numPlayers\": 1}, {\"collegeName\": \"Southern Methodist\", \"position\": \"LS\", \"numPlayers\": 1}, {\"collegeName\": \"Utah\", \"position\": \"FS\", \"numPlayers\": 2}, {\"collegeName\": \"North Carolina\", \"position\": \"ILB\", \"numPlayers\": 2}, {\"collegeName\": \"Baylor\", \"position\": \"WR\", \"numPlayers\": 2}, {\"collegeName\": \"Colorado\", \"position\": \"K\", \"numPlayers\": 1}, {\"collegeName\": \"Alabama\", \"position\": \"ILB\", \"numPlayers\": 3}, {\"collegeName\": \"Houston\", \"position\": \"OLB\", \"numPlayers\": 1}, {\"collegeName\": \"Ohio State\", \"position\": \"CB\", \"numPlayers\": 5}, {\"collegeName\": \"Clemson\", \"position\": \"ILB\", \"numPlayers\": 1}, {\"collegeName\": \"Marshall\", \"position\": \"OLB\", \"numPlayers\": 2}, {\"collegeName\": \"Oklahoma State\", \"position\": \"RB\", \"numPlayers\": 1}, {\"collegeName\": \"Maryland\", \"position\": \"DB\", \"numPlayers\": 1}, {\"collegeName\": \"Middle Tennessee\", \"position\": \"CB\", \"numPlayers\": 1}, {\"collegeName\": \"Southern California\", \"position\": \"CB\", \"numPlayers\": 2}, {\"collegeName\": \"Wake Forest\", \"position\": \"CB\", \"numPlayers\": 1}, {\"collegeName\": \"Alabama\", \"position\": \"MLB\", \"numPlayers\": 1}, {\"collegeName\": \"Colorado\", \"position\": \"WR\", \"numPlayers\": 1}, {\"collegeName\": \"East Central\", \"position\": \"WR\", \"numPlayers\": 1}, {\"collegeName\": \"Indiana\", \"position\": \"RB\", \"numPlayers\": 2}, {\"collegeName\": \"Kansas State\", \"position\": \"CB\", \"numPlayers\": 1}, {\"collegeName\": \"Weber State\", \"position\": \"CB\", \"numPlayers\": 1}, {\"collegeName\": \"Georgia\", \"position\": \"OLB\", \"numPlayers\": 4}, {\"collegeName\": \"Maryland\", \"position\": \"LB\", \"numPlayers\": 1}, {\"collegeName\": \"Purdue\", \"position\": \"SS\", \"numPlayers\": 1}, {\"collegeName\": \"Grambling State\", \"position\": \"WR\", \"numPlayers\": 1}, {\"collegeName\": \"South Carolina\", \"position\": \"FB\", \"numPlayers\": 1}, {\"collegeName\": \"Southeast Missouri\", \"position\": \"CB\", \"numPlayers\": 1}, {\"collegeName\": \"Iowa State\", \"position\": \"CB\", \"numPlayers\": 1}, {\"collegeName\": \"Stanford\", \"position\": \"LB\", \"numPlayers\": 1}, {\"collegeName\": \"Central Florida\", \"position\": \"HB\", \"numPlayers\": 1}, {\"collegeName\": \"Houston\", \"position\": \"MLB\", \"numPlayers\": 1}, {\"collegeName\": \"Duke\", \"position\": \"WR\", \"numPlayers\": 2}, {\"collegeName\": \"Beloit\", \"position\": \"TE\", \"numPlayers\": 1}, {\"collegeName\": \"Texas\", \"position\": \"QB\", \"numPlayers\": 1}, {\"collegeName\": \"Georgia Tech\", \"position\": \"SS\", \"numPlayers\": 1}, {\"collegeName\": \"Mississippi State\", \"position\": \"P\", \"numPlayers\": 1}, {\"collegeName\": \"James Madison\", \"position\": \"TE\", \"numPlayers\": 1}, {\"collegeName\": \"Georgia\", \"position\": \"RB\", \"numPlayers\": 3}, {\"collegeName\": \"Texas-El Paso\", \"position\": \"RB\", \"numPlayers\": 1}, {\"collegeName\": \"Emporia State\", \"position\": \"CB\", \"numPlayers\": 1}, {\"collegeName\": \"Minnesota\", \"position\": \"OLB\", \"numPlayers\": 2}, {\"collegeName\": \"Southern Mississippi\", \"position\": \"OLB\", \"numPlayers\": 1}, {\"collegeName\": \"Georgia\", \"position\": \"WR\", \"numPlayers\": 4}, {\"collegeName\": \"Harvard\", \"position\": \"FB\", \"numPlayers\": 1}, {\"collegeName\": \"Jacksonville\", \"position\": \"WR\", \"numPlayers\": 1}, {\"collegeName\": \"Alabama\", \"position\": \"WR\", \"numPlayers\": 5}, {\"collegeName\": \"Stanford\", \"position\": \"QB\", \"numPlayers\": 1}, {\"collegeName\": \"Ohio State\", \"position\": \"TE\", \"numPlayers\": 2}, {\"collegeName\": \"UCLA\", \"position\": \"QB\", \"numPlayers\": 1}, {\"collegeName\": \"Penn State\", \"position\": \"TE\", \"numPlayers\": 2}, {\"collegeName\": \"Notre Dame\", \"position\": \"DE\", \"numPlayers\": 1}, {\"collegeName\": \"Wisconsin\", \"position\": \"RB\", \"numPlayers\": 3}, {\"collegeName\": \"Tennessee\", \"position\": \"CB\", \"numPlayers\": 2}, {\"collegeName\": \"Boston College\", \"position\": \"SS\", \"numPlayers\": 2}, {\"collegeName\": \"Tennessee\", \"position\": \"DT\", \"numPlayers\": 1}, {\"collegeName\": \"North Carolina State\", \"position\": \"CB\", \"numPlayers\": 2}, {\"collegeName\": \"Colorado State-Pueblo\", \"position\": \"DT\", \"numPlayers\": 1}, {\"collegeName\": \"Virginia Tech\", \"position\": \"LB\", \"numPlayers\": 1}, {\"collegeName\": \"Nebraska\", \"position\": \"ILB\", \"numPlayers\": 1}, {\"collegeName\": \"Clemson\", \"position\": \"TE\", \"numPlayers\": 2}, {\"collegeName\": \"West Virginia\", \"position\": \"ILB\", \"numPlayers\": 1}, {\"collegeName\": \"Northern Iowa\", \"position\": \"ILB\", \"numPlayers\": 1}, {\"collegeName\": \"Brown\", \"position\": \"FB\", \"numPlayers\": 1}, {\"collegeName\": \"Cincinnati\", \"position\": \"OLB\", \"numPlayers\": 2}, {\"collegeName\": \"Fresno State\", \"position\": \"FS\", \"numPlayers\": 1}, {\"collegeName\": \"Michigan State\", \"position\": \"FS\", \"numPlayers\": 1}, {\"collegeName\": \"Texas A&M\", \"position\": \"DE\", \"numPlayers\": 1}, {\"collegeName\": \"West Virginia\", \"position\": \"FS\", \"numPlayers\": 1}, {\"collegeName\": \"Louisiana State\", \"position\": \"DE\", \"numPlayers\": 1}, {\"collegeName\": \"California\", \"position\": \"OLB\", \"numPlayers\": 2}, {\"collegeName\": \"Texas\", \"position\": \"ILB\", \"numPlayers\": 1}, {\"collegeName\": \"Missouri\", \"position\": \"QB\", \"numPlayers\": 2}, {\"collegeName\": \"Toledo\", \"position\": \"SS\", \"numPlayers\": 1}, {\"collegeName\": \"Mississippi\", \"position\": \"TE\", \"numPlayers\": 1}, {\"collegeName\": \"Wisconsin\", \"position\": \"TE\", \"numPlayers\": 1}, {\"collegeName\": \"Oregon\", \"position\": \"WR\", \"numPlayers\": 1}, {\"collegeName\": \"Kent State\", \"position\": \"WR\", \"numPlayers\": 1}, {\"collegeName\": \"Clemson\", \"position\": \"DT\", \"numPlayers\": 1}, {\"collegeName\": \"Texas Christian\", \"position\": \"SS\", \"numPlayers\": 1}, {\"collegeName\": \"Louisville\", \"position\": \"RB\", \"numPlayers\": 1}, {\"collegeName\": \"Michigan\", \"position\": \"TE\", \"numPlayers\": 1}, {\"collegeName\": \"Iowa\", \"position\": \"LB\", \"numPlayers\": 2}, {\"collegeName\": \"Northern Iowa\", \"position\": \"CB\", \"numPlayers\": 1}, {\"collegeName\": \"Samford\", \"position\": \"DT\", \"numPlayers\": 1}, {\"collegeName\": \"Mississippi\", \"position\": \"QB\", \"numPlayers\": 1}, {\"collegeName\": \"Maryland\", \"position\": \"DE\", \"numPlayers\": 1}, {\"collegeName\": \"Michigan State\", \"position\": \"WR\", \"numPlayers\": 1}, {\"collegeName\": \"Alabama\", \"position\": \"QB\", \"numPlayers\": 1}, {\"collegeName\": \"Missouri State\", \"position\": \"ILB\", \"numPlayers\": 1}, {\"collegeName\": \"Tennessee\", \"position\": \"LS\", \"numPlayers\": 1}, {\"collegeName\": \"USC\", \"position\": \"RB\", \"numPlayers\": 1}, {\"collegeName\": \"Miami\", \"position\": \"DT\", \"numPlayers\": 1}, {\"collegeName\": \"San Jose State\", \"position\": \"RB\", \"numPlayers\": 1}, {\"collegeName\": \"Georgia\", \"position\": \"QB\", \"numPlayers\": 1}, {\"collegeName\": \"Illinois\", \"position\": \"CB\", \"numPlayers\": 1}, {\"collegeName\": \"Middle Tennessee\", \"position\": \"WR\", \"numPlayers\": 1}, {\"collegeName\": \"Miami\", \"position\": \"WR\", \"numPlayers\": 3}, {\"collegeName\": \"Maryland\", \"position\": \"WR\", \"numPlayers\": 4}, {\"collegeName\": \"Eastern Washington\", \"position\": \"WR\", \"numPlayers\": 2}, {\"collegeName\": \"Missouri\", \"position\": \"DE\", \"numPlayers\": 1}, {\"collegeName\": \"California\", \"position\": \"SS\", \"numPlayers\": 1}, {\"collegeName\": \"Brigham Young\", \"position\": \"LB\", \"numPlayers\": 1}, {\"collegeName\": \"Virginia Tech\", \"position\": \"S\", \"numPlayers\": 1}, {\"collegeName\": \"Idaho State\", \"position\": \"TE\", \"numPlayers\": 1}, {\"collegeName\": \"Old Dominion\", \"position\": \"QB\", \"numPlayers\": 1}, {\"collegeName\": \"Wake Forest\", \"position\": \"OLB\", \"numPlayers\": 1}, {\"collegeName\": \"Penn State\", \"position\": \"FS\", \"numPlayers\": 2}, {\"collegeName\": \"Michigan\", \"position\": \"OLB\", \"numPlayers\": 1}, {\"collegeName\": \"Southern Mississippi\", \"position\": \"DB\", \"numPlayers\": 1}, {\"collegeName\": \"Mississippi State\", \"position\": \"LS\", \"numPlayers\": 1}, {\"collegeName\": \"Texas A&M\", \"position\": \"K\", \"numPlayers\": 1}, {\"collegeName\": \"UCLA\", \"position\": \"ILB\", \"numPlayers\": 1}, {\"collegeName\": \"Stanford\", \"position\": \"SS\", \"numPlayers\": 3}, {\"collegeName\": \"Northwest Missouri State\", \"position\": \"OLB\", \"numPlayers\": 1}, {\"collegeName\": \"Louisville\", \"position\": \"OLB\", \"numPlayers\": 2}, {\"collegeName\": \"Mississippi\", \"position\": \"LB\", \"numPlayers\": 1}, {\"collegeName\": \"William Penn\", \"position\": \"DT\", \"numPlayers\": 1}, {\"collegeName\": \"Rutgers\", \"position\": \"WR\", \"numPlayers\": 3}, {\"collegeName\": \"Nebraska\", \"position\": \"TE\", \"numPlayers\": 1}, {\"collegeName\": \"Washington\", \"position\": \"ILB\", \"numPlayers\": 2}, {\"collegeName\": \"Coastal Carolina\", \"position\": \"CB\", \"numPlayers\": 1}, {\"collegeName\": \"William & Mary\", \"position\": \"FS\", \"numPlayers\": 1}, {\"collegeName\": \"Pittsburgh\", \"position\": \"LB\", \"numPlayers\": 1}, {\"collegeName\": \"Louisiana State\", \"position\": \"LS\", \"numPlayers\": 1}, {\"collegeName\": \"Fresno State\", \"position\": \"OLB\", \"numPlayers\": 1}, {\"collegeName\": \"South Dakota\", \"position\": \"RB\", \"numPlayers\": 1}, {\"collegeName\": \"Ashland\", \"position\": \"TE\", \"numPlayers\": 1}, {\"collegeName\": \"Alabama\", \"position\": \"LB\", \"numPlayers\": 2}, {\"collegeName\": \"Louisiana State\", \"position\": \"DB\", \"numPlayers\": 1}, {\"collegeName\": \"Bethune-Cookman\", \"position\": \"WR\", \"numPlayers\": 1}, {\"collegeName\": \"Pittsburgh\", \"position\": \"DE\", \"numPlayers\": 1}, {\"collegeName\": \"Miami, O.\", \"position\": \"QB\", \"numPlayers\": 1}, {\"collegeName\": \"Southern Methodist\", \"position\": \"P\", \"numPlayers\": 1}, {\"collegeName\": \"Ohio\", \"position\": \"OLB\", \"numPlayers\": 1}, {\"collegeName\": \"Wake Forest\", \"position\": \"S\", \"numPlayers\": 1}, {\"collegeName\": \"Delaware\", \"position\": \"TE\", \"numPlayers\": 1}, {\"collegeName\": \"South Carolina\", \"position\": \"TE\", \"numPlayers\": 2}, {\"collegeName\": \"Houston\", \"position\": \"S\", \"numPlayers\": 1}, {\"collegeName\": \"Drake\", \"position\": \"TE\", \"numPlayers\": 1}, {\"collegeName\": \"Temple\", \"position\": \"OLB\", \"numPlayers\": 2}, {\"collegeName\": \"Howard\", \"position\": \"FS\", \"numPlayers\": 1}, {\"collegeName\": \"Purdue\", \"position\": \"CB\", \"numPlayers\": 1}, {\"collegeName\": \"Virginia\", \"position\": \"DE\", \"numPlayers\": 2}, {\"collegeName\": \"Iowa\", \"position\": \"MLB\", \"numPlayers\": 1}, {\"collegeName\": \"Appalachian State\", \"position\": \"WR\", \"numPlayers\": 1}, {\"collegeName\": \"Missouri\", \"position\": \"MLB\", \"numPlayers\": 1}, {\"collegeName\": \"North Carolina\", \"position\": \"LB\", \"numPlayers\": 1}, {\"collegeName\": \"Augustana, S.D.\", \"position\": \"FB\", \"numPlayers\": 1}, {\"collegeName\": \"Minnesota\", \"position\": \"FS\", \"numPlayers\": 1}, {\"collegeName\": \"Brigham Young\", \"position\": \"SS\", \"numPlayers\": 1}, {\"collegeName\": \"San Diego\", \"position\": \"CB\", \"numPlayers\": 1}, {\"collegeName\": \"Clemson\", \"position\": \"CB\", \"numPlayers\": 4}, {\"collegeName\": \"Troy\", \"position\": \"FS\", \"numPlayers\": 1}, {\"collegeName\": \"Lindenwood\", \"position\": \"CB\", \"numPlayers\": 1}, {\"collegeName\": \"Arizona\", \"position\": \"FS\", \"numPlayers\": 1}, {\"collegeName\": \"Florida State\", \"position\": \"LB\", \"numPlayers\": 1}, {\"collegeName\": \"Wisconsin\", \"position\": \"CB\", \"numPlayers\": 1}, {\"collegeName\": \"Pittsburgh\", \"position\": \"TE\", \"numPlayers\": 1}, {\"collegeName\": \"UCLA\", \"position\": \"OLB\", \"numPlayers\": 3}, {\"collegeName\": \"Iowa\", \"position\": \"LS\", \"numPlayers\": 1}, {\"collegeName\": \"Tennessee\", \"position\": \"TE\", \"numPlayers\": 2}, {\"collegeName\": \"Limestone\", \"position\": \"WR\", \"numPlayers\": 1}, {\"collegeName\": \"Brigham Young\", \"position\": \"OLB\", \"numPlayers\": 1}, {\"collegeName\": \"Ohio State\", \"position\": \"WR\", \"numPlayers\": 5}, {\"collegeName\": \"Penn State\", \"position\": \"ILB\", \"numPlayers\": 3}, {\"collegeName\": \"Duke\", \"position\": \"RB\", \"numPlayers\": 1}, {\"collegeName\": \"Stanford\", \"position\": \"TE\", \"numPlayers\": 5}, {\"collegeName\": \"Virginia\", \"position\": \"CB\", \"numPlayers\": 1}, {\"collegeName\": \"Mississippi State\", \"position\": \"TE\", \"numPlayers\": 1}, {\"collegeName\": \"Central Florida\", \"position\": \"QB\", \"numPlayers\": 1}, {\"collegeName\": \"Temple\", \"position\": \"ILB\", \"numPlayers\": 2}, {\"collegeName\": \"Kentucky\", \"position\": \"WR\", \"numPlayers\": 1}, {\"collegeName\": \"Louisiana Tech\", \"position\": \"CB\", \"numPlayers\": 1}, {\"collegeName\": \"USC\", \"position\": \"OLB\", \"numPlayers\": 1}, {\"collegeName\": \"North Carolina A&T\", \"position\": \"RB\", \"numPlayers\": 1}, {\"collegeName\": \"South Florida\", \"position\": \"RB\", \"numPlayers\": 1}, {\"collegeName\": \"Syracuse\", \"position\": \"SS\", \"numPlayers\": 1}, {\"collegeName\": \"Georgia\", \"position\": \"NT\", \"numPlayers\": 1}, {\"collegeName\": \"Washington State\", \"position\": \"FS\", \"numPlayers\": 1}, {\"collegeName\": \"Portland State\", \"position\": \"LS\", \"numPlayers\": 1}, {\"collegeName\": \"Iowa\", \"position\": \"SS\", \"numPlayers\": 1}, {\"collegeName\": \"Wisconsin\", \"position\": \"DB\", \"numPlayers\": 1}, {\"collegeName\": \"Cal Poly\", \"position\": \"ILB\", \"numPlayers\": 1}, {\"collegeName\": \"Temple\", \"position\": \"DE\", \"numPlayers\": 1}, {\"collegeName\": \"Wyoming\", \"position\": \"QB\", \"numPlayers\": 1}, {\"collegeName\": \"Alabama\", \"position\": \"TE\", \"numPlayers\": 1}, {\"collegeName\": \"Fresno State\", \"position\": \"WR\", \"numPlayers\": 2}, {\"collegeName\": \"West Virginia\", \"position\": \"SS\", \"numPlayers\": 1}, {\"collegeName\": \"Ohio State\", \"position\": \"DE\", \"numPlayers\": 2}, {\"collegeName\": \"South Carolina\", \"position\": \"RB\", \"numPlayers\": 2}, {\"collegeName\": \"Oregon State\", \"position\": \"QB\", \"numPlayers\": 2}, {\"collegeName\": \"Maryland\", \"position\": \"CB\", \"numPlayers\": 1}, {\"collegeName\": \"Canisius\", \"position\": \"TE\", \"numPlayers\": 1}, {\"collegeName\": \"Abilene Christian\", \"position\": \"WR\", \"numPlayers\": 1}, {\"collegeName\": \"Midwestern State\", \"position\": \"SS\", \"numPlayers\": 1}, {\"collegeName\": \"Georgia\", \"position\": \"S\", \"numPlayers\": 1}, {\"collegeName\": \"Washington\", \"position\": \"LB\", \"numPlayers\": 2}, {\"collegeName\": \"Florida Atlantic\", \"position\": \"MLB\", \"numPlayers\": 1}, {\"collegeName\": \"Northwestern\", \"position\": \"WR\", \"numPlayers\": 1}, {\"collegeName\": \"Grambling\", \"position\": \"WR\", \"numPlayers\": 1}, {\"collegeName\": \"Texas\", \"position\": \"WR\", \"numPlayers\": 2}, {\"collegeName\": \"Villanova\", \"position\": \"LB\", \"numPlayers\": 1}, {\"collegeName\": \"East Carolina\", \"position\": \"WR\", \"numPlayers\": 3}, {\"collegeName\": \"Maine\", \"position\": \"FB\", \"numPlayers\": 1}, {\"collegeName\": \"Tennessee\", \"position\": \"WR\", \"numPlayers\": 3}, {\"collegeName\": \"Georgia\", \"position\": \"TE\", \"numPlayers\": 2}, {\"collegeName\": \"Memphis\", \"position\": \"TE\", \"numPlayers\": 1}, {\"collegeName\": \"UCLA\", \"position\": \"CB\", \"numPlayers\": 1}, {\"collegeName\": \"Baylor\", \"position\": \"ILB\", \"numPlayers\": 1}, {\"collegeName\": \"Southern Methodist\", \"position\": \"DT\", \"numPlayers\": 1}, {\"collegeName\": \"Ohio State\", \"position\": \"DT\", \"numPlayers\": 2}, {\"collegeName\": \"Maryland\", \"position\": \"DT\", \"numPlayers\": 1}, {\"collegeName\": \"Ohio State\", \"position\": \"SS\", \"numPlayers\": 2}, {\"collegeName\": \"Florida\", \"position\": \"WR\", \"numPlayers\": 4}, {\"collegeName\": \"Oregon\", \"position\": \"OLB\", \"numPlayers\": 1}, {\"collegeName\": \"Mississippi State\", \"position\": \"OLB\", \"numPlayers\": 3}, {\"collegeName\": \"Rutgers\", \"position\": \"FB\", \"numPlayers\": 1}, {\"collegeName\": \"Louisiana Tech\", \"position\": \"WR\", \"numPlayers\": 1}, {\"collegeName\": \"Idaho\", \"position\": \"DE\", \"numPlayers\": 1}, {\"collegeName\": \"James Madison\", \"position\": \"FS\", \"numPlayers\": 1}, {\"collegeName\": \"Auburn\", \"position\": \"CB\", \"numPlayers\": 4}, {\"collegeName\": \"Oklahoma\", \"position\": \"RB\", \"numPlayers\": 3}, {\"collegeName\": \"Purdue\", \"position\": \"OLB\", \"numPlayers\": 1}, {\"collegeName\": \"Saginaw Valley State\", \"position\": \"SS\", \"numPlayers\": 1}, {\"collegeName\": \"Miami (Fla.)\", \"position\": \"HB\", \"numPlayers\": 1}, {\"collegeName\": \"Arizona\", \"position\": \"QB\", \"numPlayers\": 1}, {\"collegeName\": \"Southern California\", \"position\": \"RB\", \"numPlayers\": 2}, {\"collegeName\": \"Virginia Tech\", \"position\": \"FS\", \"numPlayers\": 2}, {\"collegeName\": \"California-Irvine\", \"position\": \"TE\", \"numPlayers\": 1}, {\"collegeName\": \"Princeton\", \"position\": \"TE\", \"numPlayers\": 1}, {\"collegeName\": \"Northwestern\", \"position\": \"CB\", \"numPlayers\": 1}, {\"collegeName\": \"Virginia State\", \"position\": \"RB\", \"numPlayers\": 1}, {\"collegeName\": \"Eastern Washington\", \"position\": \"OLB\", \"numPlayers\": 1}, {\"collegeName\": \"Idaho\", \"position\": \"RB\", \"numPlayers\": 1}, {\"collegeName\": \"East Carolina\", \"position\": \"CB\", \"numPlayers\": 1}, {\"collegeName\": \"Illinois\", \"position\": \"MLB\", \"numPlayers\": 1}, {\"collegeName\": \"Central Florida\", \"position\": \"CB\", \"numPlayers\": 4}, {\"collegeName\": \"North Texas\", \"position\": \"FB\", \"numPlayers\": 1}, {\"collegeName\": \"Texas-El Paso\", \"position\": \"TE\", \"numPlayers\": 1}, {\"collegeName\": \"South Alabama\", \"position\": \"TE\", \"numPlayers\": 1}, {\"collegeName\": \"Florida Atlantic\", \"position\": \"SS\", \"numPlayers\": 1}, {\"collegeName\": \"Michigan State\", \"position\": \"CB\", \"numPlayers\": 3}, {\"collegeName\": \"Alabama\", \"position\": \"RB\", \"numPlayers\": 4}, {\"collegeName\": \"Nevada-Las Vegas\", \"position\": \"CB\", \"numPlayers\": 1}, {\"collegeName\": \"Connecticut\", \"position\": \"CB\", \"numPlayers\": 2}, {\"collegeName\": \"Florida State\", \"position\": \"FS\", \"numPlayers\": 1}, {\"collegeName\": \"USC\", \"position\": \"SS\", \"numPlayers\": 1}, {\"collegeName\": \"Arizona\", \"position\": \"TE\", \"numPlayers\": 1}, {\"collegeName\": \"Louisiana State\", \"position\": \"RB\", \"numPlayers\": 2}, {\"collegeName\": \"Southern California\", \"position\": \"OLB\", \"numPlayers\": 3}, {\"collegeName\": \"Utah\", \"position\": \"RB\", \"numPlayers\": 1}, {\"collegeName\": \"Mississippi State\", \"position\": \"DB\", \"numPlayers\": 1}, {\"collegeName\": \"USC\", \"position\": \"MLB\", \"numPlayers\": 1}, {\"collegeName\": \"Texas\", \"position\": \"LB\", \"numPlayers\": 1}, {\"collegeName\": \"Oklahoma\", \"position\": \"TE\", \"numPlayers\": 3}, {\"collegeName\": \"Central Michigan\", \"position\": \"SS\", \"numPlayers\": 2}, {\"collegeName\": \"South Carolina State\", \"position\": \"ILB\", \"numPlayers\": 1}, {\"collegeName\": \"Illinois\", \"position\": \"SS\", \"numPlayers\": 1}, {\"collegeName\": \"Alabama State\", \"position\": \"RB\", \"numPlayers\": 1}, {\"collegeName\": \"Clemson\", \"position\": \"SS\", \"numPlayers\": 1}, {\"collegeName\": \"LSU\", \"position\": \"WR\", \"numPlayers\": 3}, {\"collegeName\": \"Ferris State\", \"position\": \"CB\", \"numPlayers\": 1}, {\"collegeName\": \"Western Michigan\", \"position\": \"TE\", \"numPlayers\": 1}, {\"collegeName\": \"Arizona State\", \"position\": \"OLB\", \"numPlayers\": 2}, {\"collegeName\": \"Louisville\", \"position\": \"MLB\", \"numPlayers\": 1}, {\"collegeName\": \"Nebraska\", \"position\": \"OLB\", \"numPlayers\": 1}, {\"collegeName\": \"Illinois State\", \"position\": \"TE\", \"numPlayers\": 1}, {\"collegeName\": \"Tennessee\", \"position\": \"OLB\", \"numPlayers\": 1}, {\"collegeName\": \"Western State, Colo.\", \"position\": \"RB\", \"numPlayers\": 1}, {\"collegeName\": \"Virginia Commonwealth\", \"position\": \"TE\", \"numPlayers\": 1}, {\"collegeName\": \"South Carolina State\", \"position\": \"TE\", \"numPlayers\": 1}, {\"collegeName\": \"Texas A&M\", \"position\": \"TE\", \"numPlayers\": 1}, {\"collegeName\": \"Notre Dame\", \"position\": \"RB\", \"numPlayers\": 3}, {\"collegeName\": \"Louisiana-Lafayette\", \"position\": \"DB\", \"numPlayers\": 1}, {\"collegeName\": \"Sacramento State\", \"position\": \"ILB\", \"numPlayers\": 1}, {\"collegeName\": \"Texas Tech\", \"position\": \"RB\", \"numPlayers\": 1}, {\"collegeName\": \"Virginia\", \"position\": \"TE\", \"numPlayers\": 1}, {\"collegeName\": \"Tulane\", \"position\": \"RB\", \"numPlayers\": 2}, {\"collegeName\": \"North Carolina\", \"position\": \"SS\", \"numPlayers\": 1}, {\"collegeName\": \"Rice\", \"position\": \"SS\", \"numPlayers\": 1}, {\"collegeName\": \"Central Arkansas\", \"position\": \"WR\", \"numPlayers\": 1}, {\"collegeName\": \"Kansas\", \"position\": \"SS\", \"numPlayers\": 1}, {\"collegeName\": \"Western Kentucky\", \"position\": \"LB\", \"numPlayers\": 1}, {\"collegeName\": \"North Texas\", \"position\": \"RB\", \"numPlayers\": 1}, {\"collegeName\": \"Louisiana State\", \"position\": \"MLB\", \"numPlayers\": 3}, {\"collegeName\": \"Texas\", \"position\": \"MLB\", \"numPlayers\": 1}, {\"collegeName\": \"Houston\", \"position\": \"CB\", \"numPlayers\": 2}, {\"collegeName\": \"USC\", \"position\": \"TE\", \"numPlayers\": 1}, {\"collegeName\": \"Oregon State\", \"position\": \"CB\", \"numPlayers\": 1}, {\"collegeName\": \"Clemson\", \"position\": \"MLB\", \"numPlayers\": 1}, {\"collegeName\": \"UCLA\", \"position\": \"DE\", \"numPlayers\": 1}, {\"collegeName\": \"Vanderbilt\", \"position\": \"S\", \"numPlayers\": 1}, {\"collegeName\": \"Kansas State\", \"position\": \"RB\", \"numPlayers\": 1}, {\"collegeName\": \"Weber State\", \"position\": \"LB\", \"numPlayers\": 1}, {\"collegeName\": \"Texas\", \"position\": \"SS\", \"numPlayers\": 3}, {\"collegeName\": \"South Carolina\", \"position\": \"WR\", \"numPlayers\": 4}, {\"collegeName\": \"Missouri\", \"position\": \"TE\", \"numPlayers\": 1}, {\"collegeName\": \"Arizona\", \"position\": \"DB\", \"numPlayers\": 1}, {\"collegeName\": \"Vanderbilt\", \"position\": \"WR\", \"numPlayers\": 2}, {\"collegeName\": \"Mississippi State\", \"position\": \"DT\", \"numPlayers\": 1}, {\"collegeName\": \"Texas A&M\", \"position\": \"QB\", \"numPlayers\": 1}, {\"collegeName\": \"Oregon\", \"position\": \"QB\", \"numPlayers\": 1}, {\"collegeName\": \"Stanford\", \"position\": \"RB\", \"numPlayers\": 2}, {\"collegeName\": \"Texas Christian\", \"position\": \"DE\", \"numPlayers\": 1}, {\"collegeName\": \"Miami\", \"position\": \"TE\", \"numPlayers\": 6}, {\"collegeName\": \"Central Florida\", \"position\": \"FS\", \"numPlayers\": 2}, {\"collegeName\": \"Auburn\", \"position\": \"FS\", \"numPlayers\": 1}, {\"collegeName\": \"Notre Dame\", \"position\": \"FS\", \"numPlayers\": 1}, {\"collegeName\": \"Alabama-Birmingham\", \"position\": \"QB\", \"numPlayers\": 1}, {\"collegeName\": \"Missouri\", \"position\": \"CB\", \"numPlayers\": 1}, {\"collegeName\": \"South Carolina\", \"position\": \"ILB\", \"numPlayers\": 1}, {\"collegeName\": \"Memphis\", \"position\": \"CB\", \"numPlayers\": 2}, {\"collegeName\": \"Shippensburg\", \"position\": \"CB\", \"numPlayers\": 1}, {\"collegeName\": \"Georgia Tech\", \"position\": \"CB\", \"numPlayers\": 1}, {\"collegeName\": \"California\", \"position\": \"DE\", \"numPlayers\": 1}, {\"collegeName\": \"Eastern Michigan\", \"position\": \"RB\", \"numPlayers\": 1}, {\"collegeName\": \"Mississippi\", \"position\": \"RB\", \"numPlayers\": 2}, {\"collegeName\": \"Oklahoma\", \"position\": \"WR\", \"numPlayers\": 3}, {\"collegeName\": \"Virginia\", \"position\": \"WR\", \"numPlayers\": 3}, {\"collegeName\": \"Mississippi State\", \"position\": \"ILB\", \"numPlayers\": 1}, {\"collegeName\": \"Kentucky Wesleyan\", \"position\": \"WR\", \"numPlayers\": 1}, {\"collegeName\": \"Purdue\", \"position\": \"TE\", \"numPlayers\": 1}, {\"collegeName\": \"Akron\", \"position\": \"OLB\", \"numPlayers\": 2}, {\"collegeName\": \"Texas\", \"position\": \"RB\", \"numPlayers\": 3}, {\"collegeName\": \"Central Michigan\", \"position\": \"TE\", \"numPlayers\": 1}, {\"collegeName\": \"Iowa\", \"position\": \"TE\", \"numPlayers\": 1}, {\"collegeName\": \"Clemson\", \"position\": \"DE\", \"numPlayers\": 1}, {\"collegeName\": \"North Dakota State\", \"position\": \"LB\", \"numPlayers\": 2}, {\"collegeName\": \"Southern California\", \"position\": \"QB\", \"numPlayers\": 3}, {\"collegeName\": \"Wake Forest\", \"position\": \"MLB\", \"numPlayers\": 1}, {\"collegeName\": \"Greenville\", \"position\": \"ILB\", \"numPlayers\": 1}, {\"collegeName\": \"Wisconsin\", \"position\": \"LB\", \"numPlayers\": 3}, {\"collegeName\": \"Miami (Fla.)\", \"position\": \"CB\", \"numPlayers\": 1}, {\"collegeName\": \"Ohio State\", \"position\": \"LB\", \"numPlayers\": 2}, {\"collegeName\": \"Western Kentucky\", \"position\": \"WR\", \"numPlayers\": 1}, {\"collegeName\": \"Florida\", \"position\": \"TE\", \"numPlayers\": 2}, {\"collegeName\": \"Northwestern (Ia)\", \"position\": \"ILB\", \"numPlayers\": 1}, {\"collegeName\": \"USC\", \"position\": \"FB\", \"numPlayers\": 1}, {\"collegeName\": \"South Carolina\", \"position\": \"DE\", \"numPlayers\": 2}, {\"collegeName\": \"Syracuse\", \"position\": \"OLB\", \"numPlayers\": 2}, {\"collegeName\": \"Northwestern\", \"position\": \"RB\", \"numPlayers\": 1}, {\"collegeName\": \"Delaware State\", \"position\": \"DT\", \"numPlayers\": 1}, {\"collegeName\": \"Indiana\", \"position\": \"QB\", \"numPlayers\": 1}, {\"collegeName\": \"West Virginia\", \"position\": \"RB\", \"numPlayers\": 1}, {\"collegeName\": \"Michigan State\", \"position\": \"LB\", \"numPlayers\": 2}, {\"collegeName\": \"Louisiana State\", \"position\": \"CB\", \"numPlayers\": 6}, {\"collegeName\": \"Georgia\", \"position\": \"DE\", \"numPlayers\": 1}, {\"collegeName\": \"Marshall\", \"position\": \"TE\", \"numPlayers\": 1}, {\"collegeName\": \"Brigham Young\", \"position\": \"QB\", \"numPlayers\": 1}, {\"collegeName\": \"North Texas\", \"position\": \"OLB\", \"numPlayers\": 1}, {\"collegeName\": \"Southern Methodist\", \"position\": \"QB\", \"numPlayers\": 1}, {\"collegeName\": \"Minnesota\", \"position\": \"CB\", \"numPlayers\": 2}, {\"collegeName\": \"Kentucky\", \"position\": \"ILB\", \"numPlayers\": 3}, {\"collegeName\": \"Eastern Illinois\", \"position\": \"QB\", \"numPlayers\": 1}, {\"collegeName\": \"Middle Tennessee State\", \"position\": \"RB\", \"numPlayers\": 1}, {\"collegeName\": \"Penn State\", \"position\": \"LB\", \"numPlayers\": 1}, {\"collegeName\": \"Vanderbilt\", \"position\": \"DE\", \"numPlayers\": 1}, {\"collegeName\": \"California (PA)\", \"position\": \"FS\", \"numPlayers\": 1}, {\"collegeName\": \"Middle Tennessee\", \"position\": \"FS\", \"numPlayers\": 1}, {\"collegeName\": \"Clemson\", \"position\": \"WR\", \"numPlayers\": 8}, {\"collegeName\": \"Eastern Washington\", \"position\": \"RB\", \"numPlayers\": 1}, {\"collegeName\": \"Mississippi State\", \"position\": \"NT\", \"numPlayers\": 1}, {\"collegeName\": \"Pittsburgh\", \"position\": \"RB\", \"numPlayers\": 3}, {\"collegeName\": \"Wyoming\", \"position\": \"FS\", \"numPlayers\": 1}, {\"collegeName\": \"Stanford\", \"position\": \"ILB\", \"numPlayers\": 1}, {\"collegeName\": \"Michigan\", \"position\": \"CB\", \"numPlayers\": 2}, {\"collegeName\": \"Georgia\", \"position\": \"ILB\", \"numPlayers\": 1}, {\"collegeName\": \"Wisconsin\", \"position\": \"WR\", \"numPlayers\": 1}, {\"collegeName\": \"Vanderbilt\", \"position\": \"LB\", \"numPlayers\": 1}, {\"collegeName\": \"Boston College\", \"position\": \"ILB\", \"numPlayers\": 1}, {\"collegeName\": \"Troy\", \"position\": \"DE\", \"numPlayers\": 1}, {\"collegeName\": \"Boise State\", \"position\": \"RB\", \"numPlayers\": 2}, {\"collegeName\": \"Oklahoma State\", \"position\": \"TE\", \"numPlayers\": 1}, {\"collegeName\": \"Central Arkansas\", \"position\": \"FS\", \"numPlayers\": 1}, {\"collegeName\": \"Stanford\", \"position\": \"DE\", \"numPlayers\": 3}, {\"collegeName\": \"Stephen F. Austin\", \"position\": \"DE\", \"numPlayers\": 1}, {\"collegeName\": \"Penn State\", \"position\": \"WR\", \"numPlayers\": 4}, {\"collegeName\": \"Alabama\", \"position\": \"FS\", \"numPlayers\": 2}, {\"collegeName\": \"Florida State\", \"position\": \"NT\", \"numPlayers\": 1}, {\"collegeName\": \"Florida State\", \"position\": \"QB\", \"numPlayers\": 1}, {\"collegeName\": \"Houston\", \"position\": \"ILB\", \"numPlayers\": 1}, {\"collegeName\": \"Central Michigan\", \"position\": \"OLB\", \"numPlayers\": 1}, {\"collegeName\": \"Boise State\", \"position\": \"LB\", \"numPlayers\": 2}, {\"collegeName\": \"Western Washington\", \"position\": \"LS\", \"numPlayers\": 1}, {\"collegeName\": \"Pittsburg State\", \"position\": \"CB\", \"numPlayers\": 1}, {\"collegeName\": \"Notre Dame\", \"position\": \"SS\", \"numPlayers\": 1}, {\"collegeName\": \"Washington\", \"position\": \"TE\", \"numPlayers\": 4}, {\"collegeName\": \"Purdue\", \"position\": \"RB\", \"numPlayers\": 1}, {\"collegeName\": \"Rutgers\", \"position\": \"TE\", \"numPlayers\": 1}, {\"collegeName\": \"Arizona\", \"position\": \"OLB\", \"numPlayers\": 1}, {\"collegeName\": \"San Jose State\", \"position\": \"LB\", \"numPlayers\": 1}, {\"collegeName\": \"Toledo\", \"position\": \"WR\", \"numPlayers\": 1}, {\"collegeName\": \"Central Missouri State\", \"position\": \"TE\", \"numPlayers\": 1}, {\"collegeName\": \"Northwestern\", \"position\": \"FS\", \"numPlayers\": 1}, {\"collegeName\": \"UCLA\", \"position\": \"FB\", \"numPlayers\": 1}, {\"collegeName\": \"Michigan State\", \"position\": \"DE\", \"numPlayers\": 1}, {\"collegeName\": \"Mississippi State\", \"position\": \"S\", \"numPlayers\": 1}, {\"collegeName\": \"Utah\", \"position\": \"WR\", \"numPlayers\": 2}, {\"collegeName\": \"Texas Christian\", \"position\": \"FS\", \"numPlayers\": 1}, {\"collegeName\": \"Chattanooga\", \"position\": \"CB\", \"numPlayers\": 1}, {\"collegeName\": \"Miami (Fla.)\", \"position\": \"WR\", \"numPlayers\": 1}, {\"collegeName\": \"Louisville\", \"position\": \"WR\", \"numPlayers\": 3}, {\"collegeName\": \"West Virginia\", \"position\": \"QB\", \"numPlayers\": 1}, {\"collegeName\": \"Southern Mississippi\", \"position\": \"CB\", \"numPlayers\": 1}, {\"collegeName\": \"Nebraska\", \"position\": \"LB\", \"numPlayers\": 1}, {\"collegeName\": \"Tulane\", \"position\": \"WR\", \"numPlayers\": 1}, {\"collegeName\": \"Indiana\", \"position\": \"WR\", \"numPlayers\": 1}, {\"collegeName\": \"New Mexico\", \"position\": \"FS\", \"numPlayers\": 1}, {\"collegeName\": \"Oregon State\", \"position\": \"P\", \"numPlayers\": 1}, {\"collegeName\": \"Northwestern\", \"position\": \"TE\", \"numPlayers\": 1}, {\"collegeName\": \"Southern Connecticut State\", \"position\": \"TE\", \"numPlayers\": 1}, {\"collegeName\": \"Michigan\", \"position\": \"QB\", \"numPlayers\": 2}, {\"collegeName\": \"Laval, Can.\", \"position\": \"TE\", \"numPlayers\": 1}, {\"collegeName\": \"Central Florida\", \"position\": \"RB\", \"numPlayers\": 1}, {\"collegeName\": \"California\", \"position\": \"TE\", \"numPlayers\": 1}, {\"collegeName\": \"Wisconsin\", \"position\": \"MLB\", \"numPlayers\": 1}, {\"collegeName\": \"Illinois\", \"position\": \"WR\", \"numPlayers\": 2}, {\"collegeName\": \"North Carolina State\", \"position\": \"QB\", \"numPlayers\": 3}, {\"collegeName\": \"Miami\", \"position\": \"SS\", \"numPlayers\": 2}, {\"collegeName\": \"Rice\", \"position\": \"DT\", \"numPlayers\": 1}, {\"collegeName\": \"Kent State\", \"position\": \"FB\", \"numPlayers\": 1}, {\"collegeName\": \"Nevada\", \"position\": \"WR\", \"numPlayers\": 1}, {\"collegeName\": \"San Jose State\", \"position\": \"CB\", \"numPlayers\": 2}, {\"collegeName\": \"Alcorn State\", \"position\": \"RB\", \"numPlayers\": 1}, {\"collegeName\": \"Coastal Carolina\", \"position\": \"DB\", \"numPlayers\": 1}, {\"collegeName\": \"Northwestern\", \"position\": \"ILB\", \"numPlayers\": 1}, {\"collegeName\": \"Southern California\", \"position\": \"DE\", \"numPlayers\": 2}, {\"collegeName\": \"Pittsburgh\", \"position\": \"CB\", \"numPlayers\": 4}, {\"collegeName\": \"Eastern Illinois\", \"position\": \"OLB\", \"numPlayers\": 1}, {\"collegeName\": \"Pittsburg State\", \"position\": \"WR\", \"numPlayers\": 1}, {\"collegeName\": \"Hillsdale\", \"position\": \"WR\", \"numPlayers\": 1}, {\"collegeName\": \"Arkansas State\", \"position\": \"ILB\", \"numPlayers\": 1}, {\"collegeName\": \"Grand Valley State\", \"position\": \"OLB\", \"numPlayers\": 1}, {\"collegeName\": \"Tennessee\", \"position\": \"RB\", \"numPlayers\": 2}, {\"collegeName\": \"Central Michigan\", \"position\": \"FB\", \"numPlayers\": 1}, {\"collegeName\": \"Missouri\", \"position\": \"LS\", \"numPlayers\": 1}, {\"collegeName\": \"Virginia\", \"position\": \"MLB\", \"numPlayers\": 1}, {\"collegeName\": \"Abilene Christian\", \"position\": \"RB\", \"numPlayers\": 1}, {\"collegeName\": \"South Alabama\", \"position\": \"DB\", \"numPlayers\": 1}, {\"collegeName\": \"Florida State\", \"position\": \"WR\", \"numPlayers\": 4}, {\"collegeName\": \"Miami\", \"position\": \"OLB\", \"numPlayers\": 2}, {\"collegeName\": \"Ohio State\", \"position\": \"FS\", \"numPlayers\": 2}, {\"collegeName\": \"Appalachian State\", \"position\": \"S\", \"numPlayers\": 1}, {\"collegeName\": \"Monmouth, N.J.\", \"position\": \"TE\", \"numPlayers\": 1}, {\"collegeName\": \"Concordia, Minn\", \"position\": \"WR\", \"numPlayers\": 1}, {\"collegeName\": \"Florida Atlantic\", \"position\": \"RB\", \"numPlayers\": 2}, {\"collegeName\": \"East Carolina\", \"position\": \"DT\", \"numPlayers\": 1}, {\"collegeName\": \"Clemson\", \"position\": \"RB\", \"numPlayers\": 1}, {\"collegeName\": \"Brigham Young\", \"position\": \"RB\", \"numPlayers\": 1}, {\"collegeName\": \"Texas-San Antonio\", \"position\": \"TE\", \"numPlayers\": 1}, {\"collegeName\": \"Michigan\", \"position\": \"DT\", \"numPlayers\": 1}, {\"collegeName\": \"Kentucky\", \"position\": \"OLB\", \"numPlayers\": 2}, {\"collegeName\": \"Oregon\", \"position\": \"SS\", \"numPlayers\": 2}, {\"collegeName\": \"San Diego\", \"position\": \"QB\", \"numPlayers\": 1}, {\"collegeName\": \"Texas Tech\", \"position\": \"WR\", \"numPlayers\": 7}, {\"collegeName\": \"Washington State\", \"position\": \"ILB\", \"numPlayers\": 1}, {\"collegeName\": \"Alabama-Birmingham\", \"position\": \"WR\", \"numPlayers\": 1}, {\"collegeName\": \"Oklahoma\", \"position\": \"DE\", \"numPlayers\": 1}, {\"collegeName\": \"Notre Dame\", \"position\": \"CB\", \"numPlayers\": 1}, {\"collegeName\": \"Marshall\", \"position\": \"DE\", \"numPlayers\": 1}, {\"collegeName\": \"Southern California\", \"position\": \"TE\", \"numPlayers\": 1}, {\"collegeName\": \"Utah\", \"position\": \"QB\", \"numPlayers\": 1}, {\"collegeName\": \"Delaware\", \"position\": \"FS\", \"numPlayers\": 1}, {\"collegeName\": \"Rice\", \"position\": \"TE\", \"numPlayers\": 2}, {\"collegeName\": \"Temple\", \"position\": \"WR\", \"numPlayers\": 3}, {\"collegeName\": \"Stanford\", \"position\": \"OLB\", \"numPlayers\": 1}, {\"collegeName\": \"Stanford\", \"position\": \"DT\", \"numPlayers\": 1}, {\"collegeName\": \"Richmond\", \"position\": \"QB\", \"numPlayers\": 1}, {\"collegeName\": \"Central Florida\", \"position\": \"K\", \"numPlayers\": 1}, {\"collegeName\": \"Connecticut\", \"position\": \"TE\", \"numPlayers\": 1}, {\"collegeName\": \"Baylor\", \"position\": \"QB\", \"numPlayers\": 1}, {\"collegeName\": \"Oklahoma State\", \"position\": \"WR\", \"numPlayers\": 3}, {\"collegeName\": \"North Greenville\", \"position\": \"WR\", \"numPlayers\": 1}, {\"collegeName\": \"Ball State\", \"position\": \"WR\", \"numPlayers\": 1}, {\"collegeName\": \"Oregon\", \"position\": \"TE\", \"numPlayers\": 2}, {\"collegeName\": \"Stanford\", \"position\": \"WR\", \"numPlayers\": 1}, {\"collegeName\": \"Eastern Kentucky\", \"position\": \"TE\", \"numPlayers\": 1}, {\"collegeName\": \"Penn State\", \"position\": \"MLB\", \"numPlayers\": 1}, {\"collegeName\": \"Virginia Tech\", \"position\": \"TE\", \"numPlayers\": 1}, {\"collegeName\": \"Southern Mississippi\", \"position\": \"QB\", \"numPlayers\": 1}, {\"collegeName\": \"Texas Tech\", \"position\": \"FS\", \"numPlayers\": 1}, {\"collegeName\": \"Alabama\", \"position\": \"OLB\", \"numPlayers\": 3}, {\"collegeName\": \"Notre Dame\", \"position\": \"TE\", \"numPlayers\": 4}, {\"collegeName\": \"Duke\", \"position\": \"OLB\", \"numPlayers\": 1}, {\"collegeName\": \"Louisiana-Lafayette\", \"position\": \"RB\", \"numPlayers\": 1}, {\"collegeName\": \"Appalachian State\", \"position\": \"P\", \"numPlayers\": 1}, {\"collegeName\": \"Western Kentucky\", \"position\": \"TE\", \"numPlayers\": 2}, {\"collegeName\": \"Arkansas\", \"position\": \"DE\", \"numPlayers\": 1}, {\"collegeName\": \"San Diego State\", \"position\": \"SS\", \"numPlayers\": 2}, {\"collegeName\": \"Notre Dame\", \"position\": \"MLB\", \"numPlayers\": 2}, {\"collegeName\": \"Indiana\", \"position\": \"TE\", \"numPlayers\": 1}, {\"collegeName\": \"Nevada\", \"position\": \"ILB\", \"numPlayers\": 1}, {\"collegeName\": \"South Florida\", \"position\": \"DE\", \"numPlayers\": 1}, {\"collegeName\": \"Missouri\", \"position\": \"WR\", \"numPlayers\": 1}, {\"collegeName\": \"Belhaven\", \"position\": \"CB\", \"numPlayers\": 1}, {\"collegeName\": \"West Alabama\", \"position\": \"OLB\", \"numPlayers\": 1}, {\"collegeName\": \"Texas Southern\", \"position\": \"WR\", \"numPlayers\": 1}, {\"collegeName\": \"Minnesota\", \"position\": \"TE\", \"numPlayers\": 1}, {\"collegeName\": \"Ohio\", \"position\": \"CB\", \"numPlayers\": 1}, {\"collegeName\": \"Nebraska\", \"position\": \"WR\", \"numPlayers\": 1}, {\"collegeName\": \"Wyoming\", \"position\": \"DE\", \"numPlayers\": 1}, {\"collegeName\": \"Missouri\", \"position\": \"OLB\", \"numPlayers\": 1}, {\"collegeName\": \"Penn State\", \"position\": \"DB\", \"numPlayers\": 1}, {\"collegeName\": \"Washington\", \"position\": \"FS\", \"numPlayers\": 1}, {\"collegeName\": \"New Mexico\", \"position\": \"P\", \"numPlayers\": 1}, {\"collegeName\": \"Miami\", \"position\": \"CB\", \"numPlayers\": 3}, {\"collegeName\": \"USC\", \"position\": \"QB\", \"numPlayers\": 2}, {\"collegeName\": \"Southern Illinois\", \"position\": \"TE\", \"numPlayers\": 1}, {\"collegeName\": \"Penn State\", \"position\": \"OLB\", \"numPlayers\": 1}, {\"collegeName\": \"Louisiana Tech\", \"position\": \"RB\", \"numPlayers\": 1}, {\"collegeName\": \"North Carolina State\", \"position\": \"TE\", \"numPlayers\": 1}, {\"collegeName\": \"Arkansas State\", \"position\": \"RB\", \"numPlayers\": 1}, {\"collegeName\": \"Washington\", \"position\": \"OLB\", \"numPlayers\": 1}, {\"collegeName\": \"Texas State\", \"position\": \"MLB\", \"numPlayers\": 1}, {\"collegeName\": \"Toledo\", \"position\": \"OLB\", \"numPlayers\": 1}, {\"collegeName\": \"Arkansas\", \"position\": \"RB\", \"numPlayers\": 3}, {\"collegeName\": \"Pittsburgh\", \"position\": \"WR\", \"numPlayers\": 2}, {\"collegeName\": \"Rutgers\", \"position\": \"CB\", \"numPlayers\": 3}, {\"collegeName\": \"Auburn\", \"position\": \"DE\", \"numPlayers\": 1}, {\"collegeName\": \"Purdue\", \"position\": \"DT\", \"numPlayers\": 1}, {\"collegeName\": \"Alabama-Birmingham\", \"position\": \"CB\", \"numPlayers\": 1}, {\"collegeName\": \"Kansas\", \"position\": \"CB\", \"numPlayers\": 2}, {\"collegeName\": \"Shepherd\", \"position\": \"DB\", \"numPlayers\": 1}, {\"collegeName\": \"Louisiana Tech\", \"position\": \"QB\", \"numPlayers\": 1}, {\"collegeName\": \"Louisville\", \"position\": \"QB\", \"numPlayers\": 2}, {\"collegeName\": \"Boise State\", \"position\": \"ILB\", \"numPlayers\": 1}, {\"collegeName\": \"Pittsburgh\", \"position\": \"DB\", \"numPlayers\": 1}, {\"collegeName\": \"Washington\", \"position\": \"DT\", \"numPlayers\": 1}, {\"collegeName\": \"Georgia State\", \"position\": \"WR\", \"numPlayers\": 1}, {\"collegeName\": \"South Carolina\", \"position\": \"FS\", \"numPlayers\": 2}, {\"collegeName\": \"Cincinnati\", \"position\": \"TE\", \"numPlayers\": 1}, {\"collegeName\": \"Villanova\", \"position\": \"DE\", \"numPlayers\": 1}, {\"collegeName\": \"Houston\", \"position\": \"QB\", \"numPlayers\": 2}, {\"collegeName\": \"Virginia\", \"position\": \"LB\", \"numPlayers\": 1}, {\"collegeName\": \"Oregon State\", \"position\": \"WR\", \"numPlayers\": 3}, {\"collegeName\": \"Texas Christian\", \"position\": \"WR\", \"numPlayers\": 2}, {\"collegeName\": \"Baylor\", \"position\": \"CB\", \"numPlayers\": 1}, {\"collegeName\": \"New Mexico State\", \"position\": \"CB\", \"numPlayers\": 1}, {\"collegeName\": \"California, Pa.\", \"position\": \"SS\", \"numPlayers\": 1}, {\"collegeName\": \"James Madison\", \"position\": \"DB\", \"numPlayers\": 1}, {\"collegeName\": \"LSU\", \"position\": \"DT\", \"numPlayers\": 1}, {\"collegeName\": \"LSU\", \"position\": \"NT\", \"numPlayers\": 1}, {\"collegeName\": \"Memphis\", \"position\": \"LB\", \"numPlayers\": 1}, {\"collegeName\": \"Boise State\", \"position\": \"FS\", \"numPlayers\": 1}, {\"collegeName\": \"San Diego\", \"position\": \"TE\", \"numPlayers\": 1}, {\"collegeName\": \"Michigan State\", \"position\": \"RB\", \"numPlayers\": 1}, {\"collegeName\": \"South Dakota State\", \"position\": \"TE\", \"numPlayers\": 1}, {\"collegeName\": \"Miami\", \"position\": \"RB\", \"numPlayers\": 3}, {\"collegeName\": \"Georgia\", \"position\": \"SS\", \"numPlayers\": 3}, {\"collegeName\": \"Southern Utah\", \"position\": \"CB\", \"numPlayers\": 1}, {\"collegeName\": \"South Florida\", \"position\": \"WR\", \"numPlayers\": 1}, {\"collegeName\": \"Georgia Tech\", \"position\": \"DB\", \"numPlayers\": 1}, {\"collegeName\": \"UCLA\", \"position\": \"LB\", \"numPlayers\": 1}, {\"collegeName\": \"Clemson\", \"position\": \"QB\", \"numPlayers\": 1}, {\"collegeName\": \"Nebraska\", \"position\": \"CB\", \"numPlayers\": 1}, {\"collegeName\": \"Bowie State\", \"position\": \"TE\", \"numPlayers\": 1}, {\"collegeName\": \"Mississippi\", \"position\": \"FS\", \"numPlayers\": 1}, {\"collegeName\": \"Sam Houston State\", \"position\": \"QB\", \"numPlayers\": 1}, {\"collegeName\": \"UCLA\", \"position\": \"TE\", \"numPlayers\": 2}, {\"collegeName\": \"Wake Forest\", \"position\": \"LB\", \"numPlayers\": 1}, {\"collegeName\": \"Virginia\", \"position\": \"QB\", \"numPlayers\": 1}, {\"collegeName\": \"Florida State\", \"position\": \"CB\", \"numPlayers\": 6}, {\"collegeName\": \"Wake Forest\", \"position\": \"FB\", \"numPlayers\": 1}, {\"collegeName\": \"North Carolina\", \"position\": \"FS\", \"numPlayers\": 1}, {\"collegeName\": \"Iowa\", \"position\": \"OLB\", \"numPlayers\": 1}, {\"collegeName\": \"North Carolina\", \"position\": \"TE\", \"numPlayers\": 1}, {\"collegeName\": \"Florida\", \"position\": \"MLB\", \"numPlayers\": 1}, {\"collegeName\": \"Tennessee\", \"position\": \"DB\", \"numPlayers\": 1}, {\"collegeName\": \"Connecticut\", \"position\": \"WR\", \"numPlayers\": 2}, {\"collegeName\": \"Pittsburgh\", \"position\": \"QB\", \"numPlayers\": 1}, {\"collegeName\": \"Miami\", \"position\": \"FS\", \"numPlayers\": 1}, {\"collegeName\": \"North Carolina\", \"position\": \"RB\", \"numPlayers\": 1}, {\"collegeName\": \"Tennessee\", \"position\": \"SS\", \"numPlayers\": 1}, {\"collegeName\": \"Louisiana State\", \"position\": \"LB\", \"numPlayers\": 1}, {\"collegeName\": \"Alabama\", \"position\": \"CB\", \"numPlayers\": 7}, {\"collegeName\": \"Oregon\", \"position\": \"CB\", \"numPlayers\": 2}, {\"collegeName\": \"North Carolina\", \"position\": \"CB\", \"numPlayers\": 1}, {\"collegeName\": \"Arizona State\", \"position\": \"RB\", \"numPlayers\": 1}, {\"collegeName\": \"Florida State\", \"position\": \"RB\", \"numPlayers\": 3}, {\"collegeName\": \"Alabama\", \"position\": \"SS\", \"numPlayers\": 1}, {\"collegeName\": \"South Carolina State\", \"position\": \"LB\", \"numPlayers\": 1}, {\"collegeName\": \"North Alabama\", \"position\": \"CB\", \"numPlayers\": 1}, {\"collegeName\": \"North Carolina A&T\", \"position\": \"CB\", \"numPlayers\": 1}, {\"collegeName\": \"Georgia Southern\", \"position\": \"RB\", \"numPlayers\": 1}, {\"collegeName\": \"South Florida\", \"position\": \"OLB\", \"numPlayers\": 2}, {\"collegeName\": \"Georgia Tech\", \"position\": \"TE\", \"numPlayers\": 1}, {\"collegeName\": \"Washington\", \"position\": \"CB\", \"numPlayers\": 4}, {\"collegeName\": \"North Carolina\", \"position\": \"WR\", \"numPlayers\": 1}, {\"collegeName\": \"Jacksonville State\", \"position\": \"RB\", \"numPlayers\": 1}, {\"collegeName\": \"San Diego State\", \"position\": \"WR\", \"numPlayers\": 1}, {\"collegeName\": \"Oklahoma\", \"position\": \"SS\", \"numPlayers\": 1}, {\"collegeName\": \"Texas A&M\", \"position\": \"WR\", \"numPlayers\": 4}, {\"collegeName\": \"Nevada\", \"position\": \"TE\", \"numPlayers\": 1}, {\"collegeName\": \"Ohio State\", \"position\": \"DB\", \"numPlayers\": 1}, {\"collegeName\": \"USC\", \"position\": \"DB\", \"numPlayers\": 1}, {\"collegeName\": \"Auburn\", \"position\": \"LB\", \"numPlayers\": 2}, {\"collegeName\": \"Nebraska\", \"position\": \"RB\", \"numPlayers\": 3}, {\"collegeName\": \"Virginia Tech\", \"position\": \"DB\", \"numPlayers\": 1}, {\"collegeName\": \"Montana\", \"position\": \"CB\", \"numPlayers\": 1}, {\"collegeName\": \"North Dakota State\", \"position\": \"CB\", \"numPlayers\": 1}, {\"collegeName\": \"Georgia State\", \"position\": \"CB\", \"numPlayers\": 1}, {\"collegeName\": \"Penn State\", \"position\": \"RB\", \"numPlayers\": 1}, {\"collegeName\": \"South Carolina\", \"position\": \"S\", \"numPlayers\": 1}, {\"collegeName\": \"Florida International\", \"position\": \"WR\", \"numPlayers\": 1}, {\"collegeName\": \"Mount Union\", \"position\": \"WR\", \"numPlayers\": 1}, {\"collegeName\": \"Wisconsin-Whitewater\", \"position\": \"WR\", \"numPlayers\": 1}, {\"collegeName\": \"Florida\", \"position\": \"RB\", \"numPlayers\": 1}, {\"collegeName\": \"Utah State\", \"position\": \"MLB\", \"numPlayers\": 2}, {\"collegeName\": \"Mississippi\", \"position\": \"DE\", \"numPlayers\": 1}, {\"collegeName\": \"Minn. State-Mankato\", \"position\": \"WR\", \"numPlayers\": 1}, {\"collegeName\": \"Southern Mississippi\", \"position\": \"DT\", \"numPlayers\": 1}, {\"collegeName\": \"Northwestern\", \"position\": \"LB\", \"numPlayers\": 1}, {\"collegeName\": \"Regina, Can.\", \"position\": \"DT\", \"numPlayers\": 1}, {\"collegeName\": \"Virginia\", \"position\": \"FS\", \"numPlayers\": 2}, {\"collegeName\": \"New Hampshire\", \"position\": \"FS\", \"numPlayers\": 1}, {\"collegeName\": \"Utah State\", \"position\": \"OLB\", \"numPlayers\": 2}, {\"collegeName\": \"Valdosta State\", \"position\": \"CB\", \"numPlayers\": 1}, {\"collegeName\": \"Massachusetts\", \"position\": \"WR\", \"numPlayers\": 1}, {\"collegeName\": \"Washington\", \"position\": \"WR\", \"numPlayers\": 4}, {\"collegeName\": \"Texas\", \"position\": \"OLB\", \"numPlayers\": 2}, {\"collegeName\": \"Auburn\", \"position\": \"RB\", \"numPlayers\": 4}, {\"collegeName\": \"Notre Dame\", \"position\": \"QB\", \"numPlayers\": 1}, {\"collegeName\": \"Idaho\", \"position\": \"MLB\", \"numPlayers\": 1}, {\"collegeName\": \"Wisconsin-Milwaukee\", \"position\": \"TE\", \"numPlayers\": 1}, {\"collegeName\": \"Wisconsin\", \"position\": \"DE\", \"numPlayers\": 1}, {\"collegeName\": \"Indiana State\", \"position\": \"TE\", \"numPlayers\": 1}, {\"collegeName\": \"Wisconsin-Platteville\", \"position\": \"TE\", \"numPlayers\": 1}, {\"collegeName\": \"Missouri Southern\", \"position\": \"DT\", \"numPlayers\": 1}, {\"collegeName\": \"Colorado State\", \"position\": \"WR\", \"numPlayers\": 2}, {\"collegeName\": \"Toledo\", \"position\": \"TE\", \"numPlayers\": 1}, {\"collegeName\": \"Miami\", \"position\": \"ILB\", \"numPlayers\": 1}, {\"collegeName\": \"Louisiana State\", \"position\": \"OLB\", \"numPlayers\": 2}, {\"collegeName\": \"West Virginia\", \"position\": \"OLB\", \"numPlayers\": 1}, {\"collegeName\": \"Harvard\", \"position\": \"TE\", \"numPlayers\": 3}, {\"collegeName\": \"Oklahoma\", \"position\": \"QB\", \"numPlayers\": 2}, {\"collegeName\": \"Toledo\", \"position\": \"RB\", \"numPlayers\": 2}, {\"collegeName\": \"Florida State\", \"position\": \"TE\", \"numPlayers\": 1}, {\"collegeName\": \"Nebraska\", \"position\": \"P\", \"numPlayers\": 1}, {\"collegeName\": \"Tennessee State\", \"position\": \"DB\", \"numPlayers\": 1}, {\"collegeName\": \"Alabama\", \"position\": \"S\", \"numPlayers\": 1}, {\"collegeName\": \"Oklahoma\", \"position\": \"CB\", \"numPlayers\": 1}, {\"collegeName\": \"Purdue\", \"position\": \"LB\", \"numPlayers\": 1}, {\"collegeName\": \"Mississippi State\", \"position\": \"QB\", \"numPlayers\": 1}, {\"collegeName\": \"Michigan State\", \"position\": \"QB\", \"numPlayers\": 2}, {\"collegeName\": \"Connecticut\", \"position\": \"FB\", \"numPlayers\": 1}, {\"collegeName\": \"Kansas State\", \"position\": \"LB\", \"numPlayers\": 1}, {\"collegeName\": \"Incarnate Word\", \"position\": \"TE\", \"numPlayers\": 1}, {\"collegeName\": \"Texas A&M\", \"position\": \"OLB\", \"numPlayers\": 1}, {\"collegeName\": \"Texas\", \"position\": \"CB\", \"numPlayers\": 1}, {\"collegeName\": \"Utah\", \"position\": \"LB\", \"numPlayers\": 2}, {\"collegeName\": \"Wyoming\", \"position\": \"HB\", \"numPlayers\": 1}, {\"collegeName\": \"Florida State\", \"position\": \"ILB\", \"numPlayers\": 3}, {\"collegeName\": \"Utah State\", \"position\": \"CB\", \"numPlayers\": 2}, {\"collegeName\": \"Brigham Young\", \"position\": \"CB\", \"numPlayers\": 1}, {\"collegeName\": \"LSU\", \"position\": \"MLB\", \"numPlayers\": 1}, {\"collegeName\": \"Appalachian State\", \"position\": \"RB\", \"numPlayers\": 1}, {\"collegeName\": \"Cincinnati\", \"position\": \"WR\", \"numPlayers\": 2}, {\"collegeName\": \"Texas Christian\", \"position\": \"QB\", \"numPlayers\": 1}, {\"collegeName\": \"Iowa\", \"position\": \"WR\", \"numPlayers\": 1}, {\"collegeName\": \"California\", \"position\": \"WR\", \"numPlayers\": 4}, {\"collegeName\": \"Mississippi\", \"position\": \"DB\", \"numPlayers\": 1}, {\"collegeName\": \"Colorado\", \"position\": \"CB\", \"numPlayers\": 5}, {\"collegeName\": \"Citadel\", \"position\": \"WR\", \"numPlayers\": 1}, {\"collegeName\": \"Southern California\", \"position\": \"LB\", \"numPlayers\": 1}, {\"collegeName\": \"Vanderbilt\", \"position\": \"ILB\", \"numPlayers\": 1}, {\"collegeName\": \"North Carolina\", \"position\": \"OLB\", \"numPlayers\": 1}, {\"collegeName\": \"Iowa\", \"position\": \"CB\", \"numPlayers\": 3}, {\"collegeName\": \"Vanderbilt\", \"position\": \"CB\", \"numPlayers\": 2}, {\"collegeName\": \"Central Florida\", \"position\": \"TE\", \"numPlayers\": 1}, {\"collegeName\": \"Buffalo\", \"position\": \"TE\", \"numPlayers\": 1}, {\"collegeName\": \"Newberry\", \"position\": \"FS\", \"numPlayers\": 1}, {\"collegeName\": \"San Diego State\", \"position\": \"RB\", \"numPlayers\": 1}, {\"collegeName\": \"Cincinnati\", \"position\": \"RB\", \"numPlayers\": 1}, {\"collegeName\": \"Columbia\", \"position\": \"OLB\", \"numPlayers\": 1}, {\"collegeName\": \"North Carolina State\", \"position\": \"SS\", \"numPlayers\": 1}, {\"collegeName\": \"Tiffin University\", \"position\": \"RB\", \"numPlayers\": 1}, {\"collegeName\": \"California\", \"position\": \"QB\", \"numPlayers\": 2}, {\"collegeName\": \"Washington\", \"position\": \"RB\", \"numPlayers\": 1}, {\"collegeName\": \"Penn State\", \"position\": \"NT\", \"numPlayers\": 1}, {\"collegeName\": \"Oklahoma\", \"position\": \"OLB\", \"numPlayers\": 2}, {\"collegeName\": \"Texas A&M\", \"position\": \"SS\", \"numPlayers\": 2}, {\"collegeName\": \"North Carolina Central\", \"position\": \"CB\", \"numPlayers\": 1}, {\"collegeName\": \"Toledo\", \"position\": \"P\", \"numPlayers\": 1}, {\"collegeName\": \"Oklahoma State\", \"position\": \"CB\", \"numPlayers\": 3}, {\"collegeName\": \"Louisville\", \"position\": \"LB\", \"numPlayers\": 1}, {\"collegeName\": \"Clemson\", \"position\": \"FS\", \"numPlayers\": 1}, {\"collegeName\": \"Arizona State\", \"position\": \"QB\", \"numPlayers\": 1}, {\"collegeName\": \"Arizona State\", \"position\": \"WR\", \"numPlayers\": 1}, {\"collegeName\": \"Missouri\", \"position\": \"RB\", \"numPlayers\": 1}, {\"collegeName\": \"Ohio State\", \"position\": \"RB\", \"numPlayers\": 3}, {\"collegeName\": \"Ohio U.\", \"position\": \"FS\", \"numPlayers\": 1}, {\"collegeName\": \"Rice\", \"position\": \"K\", \"numPlayers\": 1}, {\"collegeName\": \"Northern Illinois\", \"position\": \"FS\", \"numPlayers\": 1}, {\"collegeName\": \"Tennessee\", \"position\": \"QB\", \"numPlayers\": 1}, {\"collegeName\": \"Wisconsin\", \"position\": \"FB\", \"numPlayers\": 1}, {\"collegeName\": \"Virginia Tech\", \"position\": \"WR\", \"numPlayers\": 2}, {\"collegeName\": \"Michigan\", \"position\": \"DB\", \"numPlayers\": 1}, {\"collegeName\": \"Mississippi\", \"position\": \"DT\", \"numPlayers\": 1}, {\"collegeName\": \"Michigan State\", \"position\": \"TE\", \"numPlayers\": 2}, {\"collegeName\": \"Mississippi State\", \"position\": \"CB\", \"numPlayers\": 1}, {\"collegeName\": \"Western Carolina\", \"position\": \"RB\", \"numPlayers\": 1}, {\"collegeName\": \"Connecticut\", \"position\": \"FS\", \"numPlayers\": 1}, {\"collegeName\": \"West Virginia\", \"position\": \"CB\", \"numPlayers\": 3}, {\"collegeName\": \"Central Florida\", \"position\": \"WR\", \"numPlayers\": 4}, {\"collegeName\": \"Samford\", \"position\": \"CB\", \"numPlayers\": 1}, {\"collegeName\": \"Texas A&M\", \"position\": \"LS\", \"numPlayers\": 1}, {\"collegeName\": \"Delaware\", \"position\": \"QB\", \"numPlayers\": 1}, {\"collegeName\": \"Florida\", \"position\": \"ILB\", \"numPlayers\": 2}, {\"collegeName\": \"Auburn\", \"position\": \"S\", \"numPlayers\": 1}, {\"collegeName\": \"Stanford\", \"position\": \"CB\", \"numPlayers\": 3}, {\"collegeName\": \"Coastal Carolina\", \"position\": \"RB\", \"numPlayers\": 1}, {\"collegeName\": \"Temple\", \"position\": \"CB\", \"numPlayers\": 2}, {\"collegeName\": \"South Carolina State\", \"position\": \"SS\", \"numPlayers\": 1}, {\"collegeName\": \"Louisiana State\", \"position\": \"WR\", \"numPlayers\": 4}, {\"collegeName\": \"Texas\", \"position\": \"TE\", \"numPlayers\": 2}, {\"collegeName\": \"Georgia Southern\", \"position\": \"FS\", \"numPlayers\": 1}, {\"collegeName\": \"Iowa\", \"position\": \"DE\", \"numPlayers\": 1}, {\"collegeName\": \"Iowa State\", \"position\": \"WR\", \"numPlayers\": 1}, {\"collegeName\": \"Southern Methodist\", \"position\": \"FB\", \"numPlayers\": 1}, {\"collegeName\": \"Louisiana Tech\", \"position\": \"SS\", \"numPlayers\": 1}, {\"collegeName\": \"Navy\", \"position\": \"WR\", \"numPlayers\": 1}, {\"collegeName\": \"South Carolina\", \"position\": \"CB\", \"numPlayers\": 3}, {\"collegeName\": \"Tulane\", \"position\": \"CB\", \"numPlayers\": 1}, {\"collegeName\": \"Chattanooga\", \"position\": \"ILB\", \"numPlayers\": 1}, {\"collegeName\": \"Old Dominion\", \"position\": \"WR\", \"numPlayers\": 1}, {\"collegeName\": \"Utah\", \"position\": \"CB\", \"numPlayers\": 2}, {\"collegeName\": \"Oregon State\", \"position\": \"RB\", \"numPlayers\": 1}, {\"collegeName\": \"West Alabama\", \"position\": \"WR\", \"numPlayers\": 2}, {\"collegeName\": \"Temple\", \"position\": \"DB\", \"numPlayers\": 1}, {\"collegeName\": \"Mississippi\", \"position\": \"CB\", \"numPlayers\": 2}, {\"collegeName\": \"Virginia Tech\", \"position\": \"QB\", \"numPlayers\": 1}, {\"collegeName\": \"Florida Atlantic\", \"position\": \"CB\", \"numPlayers\": 1}, {\"collegeName\": \"Arkansas-Monticello\", \"position\": \"WR\", \"numPlayers\": 1}, {\"collegeName\": \"Utah State\", \"position\": \"DB\", \"numPlayers\": 1}, {\"collegeName\": \"Wisconsin\", \"position\": \"OLB\", \"numPlayers\": 1}, {\"collegeName\": \"Samford\", \"position\": \"FS\", \"numPlayers\": 1}, {\"collegeName\": \"Connecticut\", \"position\": \"DB\", \"numPlayers\": 1}, {\"collegeName\": \"Florida\", \"position\": \"CB\", \"numPlayers\": 6}, {\"collegeName\": \"Oklahoma\", \"position\": \"HB\", \"numPlayers\": 1}, {\"collegeName\": \"Illinois State\", \"position\": \"WR\", \"numPlayers\": 1}, {\"collegeName\": \"Sacramento State\", \"position\": \"WR\", \"numPlayers\": 1}, {\"collegeName\": \"Texas A&M\", \"position\": \"RB\", \"numPlayers\": 2}, {\"collegeName\": \"Louisiana State\", \"position\": \"FS\", \"numPlayers\": 1}, {\"collegeName\": \"Jacksonville State\", \"position\": \"DB\", \"numPlayers\": 1}, {\"collegeName\": \"Colorado State\", \"position\": \"RB\", \"numPlayers\": 1}, {\"collegeName\": \"Oregon State\", \"position\": \"OLB\", \"numPlayers\": 1}, {\"collegeName\": \"San Jose State\", \"position\": \"FB\", \"numPlayers\": 2}, {\"collegeName\": \"Kansas State\", \"position\": \"OLB\", \"numPlayers\": 1}, {\"collegeName\": \"Colorado\", \"position\": \"RB\", \"numPlayers\": 1}, {\"collegeName\": \"South Florida\", \"position\": \"CB\", \"numPlayers\": 1}, {\"collegeName\": \"Vanderbilt\", \"position\": \"DT\", \"numPlayers\": 1}, {\"collegeName\": \"Auburn\", \"position\": \"ILB\", \"numPlayers\": 2}, {\"collegeName\": \"Memphis\", \"position\": \"WR\", \"numPlayers\": 2}, {\"collegeName\": \"Louisville\", \"position\": \"CB\", \"numPlayers\": 1}, {\"collegeName\": \"Wisconsin\", \"position\": \"QB\", \"numPlayers\": 1}, {\"collegeName\": \"Syracuse\", \"position\": \"ILB\", \"numPlayers\": 1}, {\"collegeName\": \"Arkansas\", \"position\": \"TE\", \"numPlayers\": 2}, {\"collegeName\": \"Monmouth (N.J.)\", \"position\": \"TE\", \"numPlayers\": 1}, {\"collegeName\": \"Albany, N.Y.\", \"position\": \"TE\", \"numPlayers\": 1}, {\"collegeName\": \"Georgia Southern\", \"position\": \"ILB\", \"numPlayers\": 1}, {\"collegeName\": \"Portland State\", \"position\": \"ILB\", \"numPlayers\": 1}, {\"collegeName\": \"Fordham\", \"position\": \"RB\", \"numPlayers\": 1}, {\"collegeName\": \"Southern U.\", \"position\": \"DB\", \"numPlayers\": 1}, {\"collegeName\": \"Wagner\", \"position\": \"ILB\", \"numPlayers\": 1}, {\"collegeName\": \"Memphis\", \"position\": \"DT\", \"numPlayers\": 1}, {\"collegeName\": \"Monmouth, N.J.\", \"position\": \"WR\", \"numPlayers\": 1}, {\"collegeName\": \"Assumption\", \"position\": \"TE\", \"numPlayers\": 1}, {\"collegeName\": \"California\", \"position\": \"RB\", \"numPlayers\": 2}, {\"collegeName\": \"Georgia Tech\", \"position\": \"WR\", \"numPlayers\": 1}, {\"collegeName\": \"Hawaii\", \"position\": \"WR\", \"numPlayers\": 1}, {\"collegeName\": \"North Carolina State\", \"position\": \"K\", \"numPlayers\": 1}, {\"collegeName\": \"Delaware\", \"position\": \"DT\", \"numPlayers\": 1}, {\"collegeName\": \"Northwestern\", \"position\": \"FB\", \"numPlayers\": 1}, {\"collegeName\": \"Yale\", \"position\": \"LB\", \"numPlayers\": 1}, {\"collegeName\": \"North Carolina\", \"position\": \"HB\", \"numPlayers\": 1}, {\"collegeName\": \"Georgia Tech\", \"position\": \"OLB\", \"numPlayers\": 2}, {\"collegeName\": \"Michigan\", \"position\": \"SS\", \"numPlayers\": 2}, {\"collegeName\": \"Wyoming\", \"position\": \"MLB\", \"numPlayers\": 1}, {\"collegeName\": \"North Carolina State\", \"position\": \"DE\", \"numPlayers\": 1}, {\"collegeName\": \"Washington State\", \"position\": \"WR\", \"numPlayers\": 1}, {\"collegeName\": \"Eastern Kentucky\", \"position\": \"P\", \"numPlayers\": 1}, {\"collegeName\": \"Grand Valley State\", \"position\": \"CB\", \"numPlayers\": 1}, {\"collegeName\": \"Purdue\", \"position\": \"QB\", \"numPlayers\": 1}, {\"collegeName\": \"Oregon\", \"position\": \"RB\", \"numPlayers\": 5}, {\"collegeName\": \"Southern Methodist\", \"position\": \"WR\", \"numPlayers\": 5}, {\"collegeName\": \"Fresno State\", \"position\": \"QB\", \"numPlayers\": 1}, {\"collegeName\": \"Portland State\", \"position\": \"CB\", \"numPlayers\": 1}, {\"collegeName\": \"Southeastern Louisiana\", \"position\": \"CB\", \"numPlayers\": 1}, {\"collegeName\": \"Illinois\", \"position\": \"FS\", \"numPlayers\": 1}, {\"collegeName\": \"Southern Illinois\", \"position\": \"OLB\", \"numPlayers\": 1}, {\"collegeName\": \"Youngstown State\", \"position\": \"CB\", \"numPlayers\": 1}, {\"collegeName\": \"Western Carolina\", \"position\": \"DB\", \"numPlayers\": 1}, {\"collegeName\": \"Western Michigan\", \"position\": \"CB\", \"numPlayers\": 1}, {\"collegeName\": \"North Carolina\", \"position\": \"DE\", \"numPlayers\": 2}, {\"collegeName\": \"Oklahoma\", \"position\": \"ILB\", \"numPlayers\": 1}, {\"collegeName\": \"Oklahoma\", \"position\": \"DT\", \"numPlayers\": 1}, {\"collegeName\": \"Michigan\", \"position\": \"FS\", \"numPlayers\": 1}, {\"collegeName\": \"Harvard\", \"position\": \"QB\", \"numPlayers\": 1}, {\"collegeName\": \"William & Mary\", \"position\": \"CB\", \"numPlayers\": 1}, {\"collegeName\": \"West Virginia\", \"position\": \"LB\", \"numPlayers\": 2}, {\"collegeName\": \"Iowa\", \"position\": \"QB\", \"numPlayers\": 1}, {\"collegeName\": \"Southern Mississippi\", \"position\": \"RB\", \"numPlayers\": 2}, {\"collegeName\": \"Southern Methodist\", \"position\": \"DE\", \"numPlayers\": 1}, {\"collegeName\": \"California\", \"position\": \"P\", \"numPlayers\": 1}, {\"collegeName\": \"Clemson\", \"position\": \"LB\", \"numPlayers\": 1}, {\"collegeName\": \"Auburn\", \"position\": \"SS\", \"numPlayers\": 1}, {\"collegeName\": \"North Carolina State\", \"position\": \"RB\", \"numPlayers\": 3}, {\"collegeName\": \"Florida State\", \"position\": \"SS\", \"numPlayers\": 2}, {\"collegeName\": \"Colorado State\", \"position\": \"OLB\", \"numPlayers\": 1}, {\"collegeName\": \"Ohio State\", \"position\": \"ILB\", \"numPlayers\": 1}, {\"collegeName\": \"West Georgia\", \"position\": \"WR\", \"numPlayers\": 1}, {\"collegeName\": \"Colorado\", \"position\": \"FS\", \"numPlayers\": 1}, {\"collegeName\": \"Illinois\", \"position\": \"OLB\", \"numPlayers\": 1}, {\"collegeName\": \"Auburn\", \"position\": \"WR\", \"numPlayers\": 1}, {\"collegeName\": \"Maryland\", \"position\": \"TE\", \"numPlayers\": 1}, {\"collegeName\": \"Florida State\", \"position\": \"LS\", \"numPlayers\": 1}, {\"collegeName\": \"Ohio State\", \"position\": \"LS\", \"numPlayers\": 1}, {\"collegeName\": \"Prairie View\", \"position\": \"WR\", \"numPlayers\": 1}, {\"collegeName\": \"Texas A&M\", \"position\": \"CB\", \"numPlayers\": 2}, {\"collegeName\": \"Rice\", \"position\": \"CB\", \"numPlayers\": 2}, {\"collegeName\": \"Northern Iowa\", \"position\": \"RB\", \"numPlayers\": 1}, {\"collegeName\": \"Auburn\", \"position\": \"QB\", \"numPlayers\": 1}, {\"collegeName\": \"Kansas State\", \"position\": \"WR\", \"numPlayers\": 2}, {\"collegeName\": \"Boston College\", \"position\": \"DB\", \"numPlayers\": 2}, {\"collegeName\": \"Louisiana Tech\", \"position\": \"FS\", \"numPlayers\": 1}, {\"collegeName\": \"Central Florida\", \"position\": \"LB\", \"numPlayers\": 1}, {\"collegeName\": \"Washington State\", \"position\": \"LB\", \"numPlayers\": 1}, {\"collegeName\": \"Mississippi\", \"position\": \"WR\", \"numPlayers\": 4}, {\"collegeName\": \"Northern Illinois\", \"position\": \"WR\", \"numPlayers\": 3}, {\"collegeName\": \"Michigan\", \"position\": \"DE\", \"numPlayers\": 2}, {\"collegeName\": \"Pennsylvania\", \"position\": \"WR\", \"numPlayers\": 1}, {\"collegeName\": \"Liberty\", \"position\": \"CB\", \"numPlayers\": 1}, {\"collegeName\": \"Alabama\", \"position\": \"P\", \"numPlayers\": 1}, {\"collegeName\": \"Ohio\", \"position\": \"LB\", \"numPlayers\": 1}, {\"collegeName\": \"Vanderbilt\", \"position\": \"LS\", \"numPlayers\": 1}, {\"collegeName\": \"Michigan\", \"position\": \"WR\", \"numPlayers\": 2}, {\"collegeName\": \"UCLA\", \"position\": \"MLB\", \"numPlayers\": 1}, {\"collegeName\": \"California-Davis\", \"position\": \"P\", \"numPlayers\": 2}, {\"collegeName\": \"Illinois State\", \"position\": \"MLB\", \"numPlayers\": 1}]}}, {\"mode\": \"vega-lite\"});\n</script>",
      "text/plain": [
       "alt.Chart(...)"
      ]
     },
     "metadata": {},
     "execution_count": 191
    }
   ],
   "source": [
    "bar = alt.Chart(num_college_pos, title=\"Number of Players in NFL by College & Position\").mark_bar().encode(alt.X(\"collegeName\", title=\"\"), alt.Y(\"numPlayers\", title=\"Count\"), color=\"position\")"
   ]
  },
  {
   "cell_type": "code",
   "execution_count": 19,
   "metadata": {},
   "outputs": [
    {
     "output_type": "stream",
     "name": "stdout",
     "text": [
      "root\n |-- gameId: integer (nullable = true)\n |-- playId: integer (nullable = true)\n |-- playDescription: string (nullable = true)\n |-- quarter: integer (nullable = true)\n |-- down: integer (nullable = true)\n |-- yardsToGo: integer (nullable = true)\n |-- possessionTeam: string (nullable = true)\n |-- playType: string (nullable = true)\n |-- yardlineSide: string (nullable = true)\n |-- yardlineNumber: integer (nullable = true)\n |-- offenseFormation: string (nullable = true)\n |-- personnelO: string (nullable = true)\n |-- defendersInTheBox: integer (nullable = true)\n |-- numberOfPassRushers: integer (nullable = true)\n |-- personnelD: string (nullable = true)\n |-- typeDropback: string (nullable = true)\n |-- preSnapVisitorScore: integer (nullable = true)\n |-- preSnapHomeScore: integer (nullable = true)\n |-- gameClock: string (nullable = true)\n |-- absoluteYardlineNumber: integer (nullable = true)\n |-- penaltyCodes: string (nullable = true)\n |-- penaltyJerseyNumbers: string (nullable = true)\n |-- passResult: string (nullable = true)\n |-- offensePlayResult: integer (nullable = true)\n |-- playResult: integer (nullable = true)\n |-- epa: double (nullable = true)\n |-- isDefensivePI: boolean (nullable = true)\n\n"
     ]
    }
   ],
   "source": [
    "# read in plays\n",
    "plays_df = sc.read.csv(\"../data/plays.csv\", header=True, inferSchema=True)\n",
    "plays_df.printSchema()"
   ]
  },
  {
   "cell_type": "code",
   "execution_count": 30,
   "metadata": {},
   "outputs": [
    {
     "output_type": "execute_result",
     "data": {
      "text/plain": [
       "19239"
      ]
     },
     "metadata": {},
     "execution_count": 30
    }
   ],
   "source": []
  },
  {
   "cell_type": "code",
   "execution_count": null,
   "metadata": {},
   "outputs": [],
   "source": []
  }
 ]
}